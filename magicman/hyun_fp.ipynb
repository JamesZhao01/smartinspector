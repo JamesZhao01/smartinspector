{
 "cells": [
  {
   "cell_type": "code",
   "execution_count": 1,
   "metadata": {},
   "outputs": [],
   "source": [
    "import numpy as np\n",
    "from rdkit import Chem\n",
    "from rdkit.Chem import rdMolDescriptors\n",
    "\n",
    "#FP used in this system uses different ranges for each radius to reduce bit collision. ie 0~2047 for radius 0, 2048~4095 for radius 1, and 4096~6143 for radius 2\n",
    "def FP_generator(SMILES,radi): # radi is radius for morgan fingerprint\n",
    "    binary = np.zeros((2048*(radi+1)), int)\n",
    "    mol = Chem.MolFromSmiles(SMILES)\n",
    "    mol_H = Chem.AddHs(mol)\n",
    "    mol_bi_H = {}\n",
    "    for r in range(radi+1):\n",
    "        mol_fp_H = rdMolDescriptors.GetMorganFingerprintAsBitVect(mol_H, radius=r, bitInfo=mol_bi_H, nBits = 2048)\n",
    "        mol_bi_H_QC = []\n",
    "        for i in mol_fp_H.GetOnBits():\n",
    "            idx = mol_bi_H[i][0][0]\n",
    "            radius_list = []\n",
    "            for j in range(len(mol_bi_H[i])):\n",
    "                atom_radi = mol_bi_H[i][j][1]\n",
    "                radius_list.append(atom_radi) \n",
    "            atom = mol_H.GetAtomWithIdx(idx)\n",
    "            symbol = atom.GetSymbol()\n",
    "            neigbor = [x.GetAtomicNum() for x in atom.GetNeighbors()]\n",
    "            if r in radius_list: #and symbol == 'C' and 1 in neigbor:#radius = 2, atom = Carbon, H possessed Carbon\n",
    "                mol_bi_H_QC.append(i)\n",
    "        bits = mol_bi_H_QC\n",
    "        for i in bits:\n",
    "            binary[(2048*r)+i] = 1\n",
    "    return binary"
   ]
  },
  {
   "cell_type": "code",
   "execution_count": 3,
   "metadata": {},
   "outputs": [
    {
     "name": "stdout",
     "output_type": "stream",
     "text": [
      "<class 'dict'>\n"
     ]
    }
   ],
   "source": [
    "import pickle5, numpy as np\n",
    "with open(\"../my_data/data/hsqc_ms_pairs/train.pkl\", \"rb\") as f:\n",
    "    my_obj = pickle5.load(f)\n",
    "print(type(my_obj))"
   ]
  },
  {
   "cell_type": "code",
   "execution_count": 9,
   "metadata": {},
   "outputs": [],
   "source": [
    "sm, fp = zip(*[(v[\"SMILES\"], v[\"FP\"])for v in my_obj.values()])"
   ]
  },
  {
   "cell_type": "code",
   "execution_count": 10,
   "metadata": {},
   "outputs": [],
   "source": [
    "fp0, sm0 = fp[0], sm[0]\n",
    "fp_hyun = FP_generator(sm0, 2)"
   ]
  },
  {
   "cell_type": "code",
   "execution_count": null,
   "metadata": {},
   "outputs": [],
   "source": []
  }
 ],
 "metadata": {
  "interpreter": {
   "hash": "189fe02c71796597890d53c5fbef6aa96cd1607f3832c8672bfb3794bc0668d5"
  },
  "kernelspec": {
   "display_name": "Python 3.7.11 ('smart')",
   "language": "python",
   "name": "python3"
  },
  "language_info": {
   "codemirror_mode": {
    "name": "ipython",
    "version": 3
   },
   "file_extension": ".py",
   "mimetype": "text/x-python",
   "name": "python",
   "nbconvert_exporter": "python",
   "pygments_lexer": "ipython3",
   "version": "3.7.11"
  },
  "orig_nbformat": 4
 },
 "nbformat": 4,
 "nbformat_minor": 2
}
