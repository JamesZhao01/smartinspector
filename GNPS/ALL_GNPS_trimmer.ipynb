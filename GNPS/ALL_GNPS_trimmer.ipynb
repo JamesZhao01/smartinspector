{
 "cells": [
  {
   "cell_type": "code",
   "execution_count": 2,
   "metadata": {},
   "outputs": [],
   "source": [
    "import json, os, numpy as np, tqdm, requests\r\n",
    "from collections import defaultdict\r\n",
    "from rdkit import Chem"
   ]
  },
  {
   "cell_type": "code",
   "execution_count": 2,
   "metadata": {},
   "outputs": [
    {
     "name": "stderr",
     "output_type": "stream",
     "text": [
      "100%|██████████| 210569/210569 [00:00<00:00, 1514851.78it/s]"
     ]
    },
    {
     "name": "stdout",
     "output_type": "stream",
     "text": [
      "Data Len:  210569\n",
      "Data Len after:  209654\n"
     ]
    },
    {
     "name": "stderr",
     "output_type": "stream",
     "text": [
      "\n"
     ]
    }
   ],
   "source": [
    "with open(\"ALL_GNPS.json\") as f:\r\n",
    "    all_gnps = json.load(f)\r\n",
    "del_list = []\r\n",
    "for i in tqdm.tqdm(range(len(all_gnps))):\r\n",
    "    if all_gnps[i][\"peaks_json\"] == \"[]\":\r\n",
    "        del_list.append(i)\r\n",
    "print(\"Data Len: \", len(all_gnps))\r\n",
    "for i in reversed(del_list):\r\n",
    "    del all_gnps[i]\r\n",
    "print(\"Data Len after: \", len(all_gnps))\r\n"
   ]
  },
  {
   "cell_type": "code",
   "execution_count": 3,
   "metadata": {},
   "outputs": [
    {
     "name": "stderr",
     "output_type": "stream",
     "text": [
      "100%|██████████| 209654/209654 [00:01<00:00, 142918.91it/s]\n"
     ]
    }
   ],
   "source": [
    "# extracting the only needed keys, used for unsupervised learning (e.x. invalid SMILES)\r\n",
    "allowed = set([\"spectrum_id\", \"peaks_json\", \"Charge\", \"Ion_Mode\", \"Adduct\", \"Smiles\", \"SpectrumID\", \"Formula_smiles\", \"url\", \"Precursor_MZ\", \"Compound_Name\"])\r\n",
    "for x in tqdm.tqdm(all_gnps):\r\n",
    "    to_delete = []\r\n",
    "    for key in x:\r\n",
    "        if key not in allowed: \r\n",
    "            to_delete.append(key)\r\n",
    "    for key in to_delete:\r\n",
    "        del x[key]\r\n",
    "with open(\"ALL_GNPS_trimmedkeys_removedempty.json\", \"w\") as f:\r\n",
    "    json.dump(all_gnps, f)"
   ]
  },
  {
   "cell_type": "code",
   "execution_count": 5,
   "metadata": {},
   "outputs": [],
   "source": [
    "with open(\"ALL_GNPS_trimmedkeys_removedempty.json\", \"r\") as f:\r\n",
    "    all_gnps = json.load(f)"
   ]
  },
  {
   "cell_type": "code",
   "execution_count": 6,
   "metadata": {},
   "outputs": [
    {
     "name": "stderr",
     "output_type": "stream",
     "text": [
      "209654it [00:18, 11529.92it/s] \n"
     ]
    },
    {
     "name": "stdout",
     "output_type": "stream",
     "text": [
      "Deleting 111036 samples\n"
     ]
    }
   ],
   "source": [
    "# Remove empty smiles or non-parseable smiles\r\n",
    "exclude = set([\"N/A\", \" \", \"\", \"NO DATA\", \"NA\", 'no data', \"n/a\", \"na\"])\r\n",
    "to_delete = []\r\n",
    "for idx, sample in tqdm.tqdm(enumerate(all_gnps)):\r\n",
    "    smiles = sample[\"Smiles\"]\r\n",
    "    if smiles in exclude:\r\n",
    "        to_delete.append(idx)\r\n",
    "        continue\r\n",
    "    mol = Chem.MolFromSmiles(smiles)\r\n",
    "    if mol is None:\r\n",
    "        to_delete.append(idx)\r\n",
    "print(f\"Deleting {len(to_delete)} samples\")\r\n",
    "for item in reversed(to_delete):\r\n",
    "    del all_gnps[item]\r\n",
    "with open(\"ALL_GNPS_trimmedkeys_filteredsmiles.json\", \"w\") as f:\r\n",
    "    json.dump(all_gnps, f)"
   ]
  },
  {
   "cell_type": "code",
   "execution_count": 3,
   "metadata": {},
   "outputs": [],
   "source": [
    "with open(\"ALL_GNPS_trimmedkeys_filteredsmiles.json\", \"r\") as f:\r\n",
    "    all_gnps = json.load(f)"
   ]
  },
  {
   "cell_type": "code",
   "execution_count": 4,
   "metadata": {},
   "outputs": [
    {
     "name": "stderr",
     "output_type": "stream",
     "text": [
      "100%|██████████| 98618/98618 [00:04<00:00, 19830.69it/s]"
     ]
    },
    {
     "name": "stdout",
     "output_type": "stream",
     "text": [
      "Uniques: 22695\n"
     ]
    },
    {
     "name": "stderr",
     "output_type": "stream",
     "text": [
      "\n"
     ]
    }
   ],
   "source": [
    "# scrape classifications\r\n",
    "uniques = set()\r\n",
    "for sample in tqdm.tqdm(all_gnps):\r\n",
    "    sm = sample[\"Smiles\"]\r\n",
    "    if sm in uniques:\r\n",
    "        continue\r\n",
    "    mol = Chem.MolFromSmiles(sm)\r\n",
    "    if mol is not None:\r\n",
    "        uniques.add(sm)\r\n",
    "print(f\"Uniques: {len(uniques)}\")\r\n",
    "with open(\"ALL_SMILES.json\", \"w\") as f:\r\n",
    "    json.dump(list(uniques), f)"
   ]
  },
  {
   "cell_type": "code",
   "execution_count": 6,
   "metadata": {},
   "outputs": [],
   "source": [
    "with open(\"ALL_SMILES.json\", \"r\") as f:\r\n",
    "    uniques = set(json.load(f))"
   ]
  }
 ],
 "metadata": {
  "kernelspec": {
   "display_name": "Python 3.7.11 64-bit ('smart': conda)",
   "name": "python3711jvsc74a57bd000eb4842bf1b72b71abf62257ce3e38328ef92c154c737ec21cf3c1f5526806a"
  },
  "language_info": {
   "codemirror_mode": {
    "name": "ipython",
    "version": 3
   },
   "file_extension": ".py",
   "mimetype": "text/x-python",
   "name": "python",
   "nbconvert_exporter": "python",
   "pygments_lexer": "ipython3",
   "version": "3.7.11"
  },
  "orig_nbformat": 2
 },
 "nbformat": 4,
 "nbformat_minor": 2
}