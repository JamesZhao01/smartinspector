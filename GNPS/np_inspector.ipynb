{
 "cells": [
  {
   "cell_type": "code",
   "execution_count": 1,
   "metadata": {},
   "outputs": [],
   "source": [
    "import json, numpy as np, tqdm, requests\n",
    "from collections import defaultdict"
   ]
  },
  {
   "cell_type": "code",
   "execution_count": 2,
   "metadata": {},
   "outputs": [
    {
     "ename": "FileNotFoundError",
     "evalue": "[Errno 2] No such file or directory: '../ALL_GNPS.json'",
     "output_type": "error",
     "traceback": [
      "\u001b[1;31m---------------------------------------------------------------------------\u001b[0m",
      "\u001b[1;31mFileNotFoundError\u001b[0m                         Traceback (most recent call last)",
      "\u001b[1;32m~\\AppData\\Local\\Temp/ipykernel_5616/3684937148.py\u001b[0m in \u001b[0;36m<module>\u001b[1;34m\u001b[0m\n\u001b[0;32m      1\u001b[0m \u001b[1;31m# load all gnps data\u001b[0m\u001b[1;33m\u001b[0m\u001b[1;33m\u001b[0m\u001b[1;33m\u001b[0m\u001b[0m\n\u001b[1;32m----> 2\u001b[1;33m \u001b[1;32mwith\u001b[0m \u001b[0mopen\u001b[0m\u001b[1;33m(\u001b[0m\u001b[1;34m\"../ALL_GNPS.json\"\u001b[0m\u001b[1;33m)\u001b[0m \u001b[1;32mas\u001b[0m \u001b[0mf\u001b[0m\u001b[1;33m:\u001b[0m\u001b[1;33m\u001b[0m\u001b[1;33m\u001b[0m\u001b[0m\n\u001b[0m\u001b[0;32m      3\u001b[0m     \u001b[0mall_gnps\u001b[0m \u001b[1;33m=\u001b[0m \u001b[0mjson\u001b[0m\u001b[1;33m.\u001b[0m\u001b[0mload\u001b[0m\u001b[1;33m(\u001b[0m\u001b[0mf\u001b[0m\u001b[1;33m)\u001b[0m\u001b[1;33m\u001b[0m\u001b[1;33m\u001b[0m\u001b[0m\n\u001b[0;32m      4\u001b[0m \u001b[0mdel_list\u001b[0m \u001b[1;33m=\u001b[0m \u001b[1;33m[\u001b[0m\u001b[1;33m]\u001b[0m\u001b[1;33m\u001b[0m\u001b[1;33m\u001b[0m\u001b[0m\n\u001b[0;32m      5\u001b[0m \u001b[1;32mfor\u001b[0m \u001b[0mi\u001b[0m \u001b[1;32min\u001b[0m \u001b[0mtqdm\u001b[0m\u001b[1;33m.\u001b[0m\u001b[0mtqdm\u001b[0m\u001b[1;33m(\u001b[0m\u001b[0mrange\u001b[0m\u001b[1;33m(\u001b[0m\u001b[0mlen\u001b[0m\u001b[1;33m(\u001b[0m\u001b[0mall_gnps\u001b[0m\u001b[1;33m)\u001b[0m\u001b[1;33m)\u001b[0m\u001b[1;33m)\u001b[0m\u001b[1;33m:\u001b[0m\u001b[1;33m\u001b[0m\u001b[1;33m\u001b[0m\u001b[0m\n",
      "\u001b[1;31mFileNotFoundError\u001b[0m: [Errno 2] No such file or directory: '../ALL_GNPS.json'"
     ]
    }
   ],
   "source": [
    "# load all gnps data\n",
    "with open(\"../ALL_GNPS.json\") as f:\n",
    "    all_gnps = json.load(f)\n",
    "del_list = []\n",
    "for i in tqdm.tqdm(range(len(all_gnps))):\n",
    "    if all_gnps[i][\"peaks_json\"] == \"[]\":\n",
    "        del_list.append(i)\n",
    "print(\"Data Len: \", len(all_gnps))\n",
    "for i in reversed(del_list):\n",
    "    del all_gnps[i]\n",
    "print(\"Data Len after: \", len(all_gnps))"
   ]
  },
  {
   "cell_type": "code",
   "execution_count": 7,
   "metadata": {},
   "outputs": [],
   "source": [
    "with open(\"./data.json\", \"r\") as f:\n",
    "    obj = json.load(f)\n"
   ]
  },
  {
   "cell_type": "markdown",
   "metadata": {},
   "source": [
    "### Recovery of Errors"
   ]
  },
  {
   "cell_type": "code",
   "execution_count": 12,
   "metadata": {},
   "outputs": [
    {
     "name": "stdout",
     "output_type": "stream",
     "text": [
      "[]\n"
     ]
    },
    {
     "name": "stderr",
     "output_type": "stream",
     "text": [
      "0it [00:00, ?it/s]\n"
     ]
    },
    {
     "name": "stdout",
     "output_type": "stream",
     "text": [
      "[]\n"
     ]
    }
   ],
   "source": [
    "bad = [k for k,v in obj.items() if v == \"Error\"]\n",
    "keys = [\"class_results\", \"superclass_results\", \"pathway_results\", \"isglycoside\"]\n",
    "print(bad)\n",
    "\n",
    "for s in tqdm.tqdm(bad):\n",
    "    URL = \"https://npclassifier.ucsd.edu/classify\"\n",
    "    smiles_to_data = {}\n",
    "    params = {\"smiles\": s}\n",
    "    r = requests.get(url = URL, params = params)\n",
    "    data = r.json()\n",
    "    obj[s] = {key: data[key] for key in keys}\n",
    "bad = [k for k,v in obj.items() if v == \"Error\"]\n",
    "\n",
    "with open(\"./data_fixerr.json\", \"w\") as f:\n",
    "    json.dump(obj, f)\n",
    "print(bad)"
   ]
  },
  {
   "cell_type": "markdown",
   "metadata": {},
   "source": [
    "### Histogram"
   ]
  },
  {
   "cell_type": "code",
   "execution_count": 45,
   "metadata": {},
   "outputs": [],
   "source": [
    "# smiles -> pathways classifications\n",
    "with open(\"./data_fixerr.json\", \"r\") as f:\n",
    "    obj = json.load(f)"
   ]
  },
  {
   "cell_type": "code",
   "execution_count": 46,
   "metadata": {},
   "outputs": [
    {
     "name": "stdout",
     "output_type": "stream",
     "text": [
      "8 [('Alkaloids', 6249), ('Shikimates and Phenylpropanoids', 4864), ('Terpenoids', 3771), ('Fatty acids', 2519), ('Amino acids and Peptides', 2421), ('Polyketides', 1924), ('EMPTY', 1240), ('Carbohydrates', 845)]\n",
      "\n",
      "73 [('EMPTY', 4179), ('Flavonoids', 1704), ('Tryptophan alkaloids', 1248), ('Small peptides', 1196), ('Glycerophospholipids', 1191), ('Steroids', 1024), ('Oligopeptides', 819), ('Coumarins', 798), ('Pseudoalkaloids', 697), ('Triterpenoids', 618), ('Tyrosine alkaloids', 610), ('Diterpenoids', 588), ('Sesquiterpenoids', 541), ('Anthranilic acid alkaloids', 529), ('Nicotinic acid alkaloids', 480), ('Fatty Acids and Conjugates', 457), ('Phenylpropanoids (C6-C3)', 416), ('Phenolic acids (C6-C1)', 387), ('Nucleosides', 367), ('Lysine alkaloids', 362), ('Monoterpenoids', 331), ('Saccharides', 318), ('Aromatic polyketides', 290), ('Lignans', 266), ('Ornithine alkaloids', 247), ('Isoflavonoids', 245), ('Polycyclic aromatic polyketides', 236), ('Peptide alkaloids', 216), ('Macrolides', 213), ('Meroterpenoids', 189), ('Carotenoids (C40)', 186), ('Sphingolipids', 173), ('Fatty amides', 146), ('Fatty esters', 141), ('Chromanes', 140), ('Fatty acyls', 115), ('Cyclic polyketides', 114), ('Aminosugars and aminoglycosides', 111), ('Histidine alkaloids', 111), ('Linear polyketides', 109), ('Xanthones', 106), ('Naphthalenes', 92), ('Glycerolipids', 78), ('Eicosanoids', 72), ('Stilbenoids', 71), ('Octadecanoids', 68), ('Diarylheptanoids', 67), ('Apocarotenoids', 66), ('Amino acid glycosides', 65), ('β-lactams', 62), ('Phenylethanoids (C6-C2)', 55), ('Diphenyl ethers (DPEs)', 48), ('Phloroglucinols', 42), ('Polyols', 39), ('Fatty acyl glycosides', 34), ('Phenanthrenoids', 31), ('Polyethers', 27), ('Proline alkaloids', 24), ('Diazotetronic acids and derivatives', 24), ('Styrylpyrones', 20), ('Terphenyls', 17), ('Docosanoids', 16), ('Serine alkaloids', 10), ('Tetramate alkaloids', 8), ('Mycosporine derivatives', 8), ('Polyprenols', 7), ('Sesterterpenoids', 5), ('Miscellaneous polyketides', 4), ('Guanidine alkaloids', 3), ('Fluorenes', 3), ('Carotenoids (C50)', 3), ('γ-lactam-β-lactones', 2), ('Mitomycin derivatives', 1)]\n",
      "\n",
      "476 [('EMPTY', 4843), ('Aminoacids', 695), ('Simple coumarins', 662), ('Cyclic peptides', 599), ('Flavonols', 530), ('Flavones', 461), ('Pyridine alkaloids', 460), ('Glycerophosphocholines', 398), ('Dipeptides', 389), ('Cinnamic acids and derivatives', 376), ('Cholane steroids', 356), ('Glycerophosphoethanolamines', 355), ('Depsipeptides', 354), ('Simple phenolic acids', 349), ('Isoquinoline alkaloids', 347), ('Oleanane triterpenoids', 326), ('Flavanones', 263), ('Purine nucleos(t)ides', 236), ('Carboline alkaloids', 235), ('Pregnane steroids', 232), ('Corynanthe type', 222), ('Oxidized glycerophospholipids', 207), ('Purine alkaloids', 207), ('Simple indole alkaloids', 185), ('Phenylalanine-derived alkaloids', 182), ('Chalcones', 181), ('Monosaccharides', 169), ('Lipopeptides', 166), ('Isoflavones', 164), ('Anthraquinones and anthrones', 163), ('Quinoline alkaloids', 161), ('Quinolizidine alkaloids', 157), ('Tripeptides', 151), ('Iridoids monoterpenoids', 149), ('Dicarboxylic acids', 147), ('Glycerophosphoinositols', 147), ('Phenylethylamines', 144), ('Piperidine alkaloids', 135), ('Linear peptides', 130), ('Polysaccharides', 127), ('Unsaturated fatty acids', 125), ('Pyrimidine nucleos(t)ides', 120), ('Cholestane steroids', 116), ('Peptaibols', 114), ('Androstane steroids', 112), ('Hydroxy fatty acids', 111), ('Imidazole alkaloids', 110), ('Anthocyanidins', 108), ('Quinazoline alkaloids', 106), ('Carotenoids (C40, β-β)', 100), ('Furocoumarins', 99), ('Depsidones', 96), ('Tetraketide meroterpenoids', 93), ('Neolignans', 93), ('Simple amide alkaloids', 93), ('Aporphine alkaloids', 91), ('Aspidosperma type', 90), ('Isocoumarins', 88), ('N-acyl amines', 88), ('pteridine alkaloids', 87), ('Depsides', 87), ('Glycerophosphoglycerols', 87), ('Phenazine alkaloids', 85), ('Aminosugars', 83), ('Shikimic acids and derivatives', 81), ('Germacrane sesquiterpenoids', 81), ('Tetracyclic diterpenoids', 80), ('Methyl xanthones', 79), ('Drimane sesquiterpenoids', 79), ('Estrane steroids', 77), ('Ceramides', 77), ('Polyamines', 75), ('Labdane diterpenoids', 74), ('Tetrahydroisoquinoline alkaloids', 73), ('Open-chain polyketides', 73), ('Chromones', 73), ('Disaccharides', 73), ('Cardenolides', 73), ('Flavan-3-ols', 72), ('Tropane alkaloids', 70), ('Glycerophosphoserines', 69), ('Branched fatty acids', 66), ('Dammarane and Protostane triterpenoids', 66), ('Linear diarylheptanoids', 64), ('Monomeric stilbenes', 64), ('Secoiridoid monoterpenoids', 61), ('Naphthoquinones', 60), ('Steroidal alkaloids', 59), ('Colensane and Clerodane diterpenoids', 58), ('Phosphosphingolipids', 57), ('Yohimbine-like alkaloids', 57), ('Pyrrolizidine alkaloids', 57), ('Eudesmane sesquiterpenoids', 56), ('Phenylethanoids', 55), ('Glucosinolates', 54), ('Guaiane sesquiterpenoids', 54), ('Pyrroloquinoline alkaloids', 54), ('Dihydroflavonols', 54), ('Morphinan alkaloids', 53), ('Menthane monoterpenoids', 51), ('Azaphilones', 50), ('Other Octadecanoids', 50), ('Pyranocoumarins', 50), ('Strychnos type', 50), ('Acridone alkaloids', 49), ('Macrolide lactones', 48), ('Fatty acyl carnitines', 48), ('Kaurane and Phyllocladane diterpenoids', 48), ('Jatrophane diterpenoids', 47), ('Erythromycins', 45), ('Terpenoid alkaloids', 44), ('Ergot alkaloids', 44), ('Benzodiazepine alkaloids', 44), ('Trichothecane sesquiterpenoids', 44), ('Arylnaphthalene and aryltetralin lignans', 42), ('Ursane and Taraxastane triterpenoids', 42), ('Triacylglycerols', 42), ('Taxane diterpenoids', 39), ('Aspidosperma-Iboga hybrid type (Vinca alkaloids)', 39), ('Amarylidaceae alkaloids', 39), ('Wax monoesters', 38), ('Carbazole alkaloids', 37), ('Limonoids', 36), ('Catechols with side chains', 36), ('Tigliane diterpenoids', 36), ('Isoflavanones', 36), ('Amino cyclitols', 34), ('Cucurbitane triterpenoids', 34), ('Lanostane, Tirucallane and Euphane triterpenoids', 33), ('Oxo fatty acids', 33), ('Spirostane steroids', 33), ('Fatty alcohols', 32), ('2-pyrone derivatives', 32), ('Acyl phloroglucinols', 31), ('Pyrrolidine alkaloids', 31), ('Indole diketopiperazine alkaloids (L-Trp, L-Pro)', 31), ('Paraconic acids and derivatives', 30), ('Fatty acyl CoAs', 30), ('Phenanthrenes', 30), ('Iboga type', 30), ('Tetracyclines', 29), ('Angucyclines', 29), ('Gallotannins', 29), ('Cinnamic acid amides', 29), ('Phthalide derivatives', 29), ('Zearalenones', 29), ('Abietane diterpenoids', 28), ('Fatty acyl homoserine lactones', 28), ('Cephalosporins', 28), ('Gibberellins', 28), ('Protoberberine alkaloids', 28), ('Ergostane steroids', 28), ('Prenyl quinone meroterpenoids', 28), ('Megastigmanes', 28), ('Penicillins', 28), ('Aminoglycosides', 28), ('Plant xanthones', 28), ('Furanoid lignans', 27), ('Sphingoid bases', 27), ('Furofuranoid lignans', 27), ('Spriromeroterpenoids', 27), ('Cytochalasan alkaloids', 27), ('Dibenzylbutane lignans', 26), ('Pyrroloindole alkaloids', 26), ('Microcolins and mirabimids', 26), ('Furostane steroids', 26), ('Cycloartane triterpenoids', 26), ('Fatty acyl glycosides of mono- and disaccharides', 25), ('Anthranillic acid derivatives', 24), ('Pulvinones', 24), ('Fungal DPEs', 24), ('Ahp-containing cyclodepsipeptides', 24), ('Monacolins and Monacolin derivatives', 24), ('Marine-bacterial DPEs', 24), ('Carotenoids (C40, β-Ψ)', 24), ('Acyclic monoterpenoids', 23), ('Carotenoids (C40, β-ε)', 23), ('Podocarpane diterpenoids', 23), ('Monoacylglycerols', 22), ('Carotenoids (C40, Ψ-Ψ)', 22), ('Hydroxy-hydroperoxyeicosatetraenoic acids', 22), ('Apocarotenoids (β-)', 21), ('Other indole diketopiperazine alkaloids', 21), ('Pterocarpan', 21), ('Usnic acid and derivatives', 21), ('Hydrocarbons', 20), ('Kavalactones and derivatives', 20), ('Cembrane diterpenoids', 20), ('Lactones', 20), ('Monocyclic monoterpenoids', 20), ('Naphthalenes and derivatives', 20), ('Pimarane and Isopimarane diterpenoids', 20), ('N-acyl ethanolamines (endocannabinoids)', 20), ('Lupane triterpenoids', 19), ('Dibenzylbutyrolactone lignans', 19), ('Pyrrole alkaloids', 19), ('Proanthocyanins', 18), ('Picrotoxane sesquiterpenoids', 18), ('Polyprenylated cyclic polyketides (Hop meroterpenoids)', 18), ('Cadinane sesquiterpenoids', 18), ('Norlabdane diterpenoids', 18), ('Bisabolane sesquiterpenoids', 18), ('Simple oxindole alkaloids', 17), ('Polyene macrolides', 17), ('Indole-Diterpenoid alkaloids (Penitrems)', 17), ('Indolizidine alkaloids', 17), ('Ansa macrolides', 17), ('Eremophilane sesquiterpenoids', 17), ('Rotenoids', 17), ('Indole diketopiperazine alkaloids (L-Trp, L-Trp)', 17), ('p-Terphenyls', 17), ('Hopane and Moretane triterpenoids', 16), ('Microcystins', 16), ('Isoindole alkaloids', 16), ('Farnesane sesquiterpenoids', 16), ('Prostaglandins', 16), ('Aflatoxins', 16), ('Lathyrane diterpenoids', 16), ('Amino fatty acids', 15), ('Phenethylisoquinoline alkaloids', 15), ('Anthracyclines', 14), ('Apocarotenoids(ε-)', 14), ('Polyether ionophores', 14), ('Bufadienolides', 14), ('Flavonolignans', 14), ('Neutral glycosphingolipids', 14), ('Myrsinane diterpenoids', 14), ('Aurones', 13), ('Serrulatane and Biflorane diterpenoids', 13), ('Capsaicins and Capsaicinoids', 13), ('Pinane monoterpenoids', 13), ('Benzophenones', 13), ('Carotenoids (C40, β-κ)', 13), ('Avermectins', 12), ('Camphane monoterpenoids', 12), ('Oxygenated hydrocarbons', 12), ('Protopine alkaloids', 12), ('Anabaenopeptins', 12), ('Daucane sesquiterpenoids', 11), ('Stigmastane steroids', 11), ('Jasmonic acids', 11), ('Norkaurane diterpenoids', 11), ('Halimane diterpenoids', 11), ('Macrotetrolides', 11), ('Hydroxy-hydroperoxyeicosapentaenoic acids', 11), ('Dibenzocyclooctadienes lignans', 10), ('Ecdysteroids', 10), ('Primary amides', 10), ('Cyanogenic glycosides', 10), ('Cyclophytane diterpenoids', 10), ('Thiazole alkaloids', 10), ('Tylosins', 10), ('Isoprostanes', 10), ('Microginins', 10), ('Glycerophosphates', 10), ('Fatty aldehydes', 10), ('Hapalindole alkaloids', 10), ('Indole diketopiperazine alkaloids (L-Trp, L-Ala)', 10), ('Spirotetronate macrolides', 9), ('Terpenoid tetrahydroisoquinoline alkaloids', 9), ('Linear polyenes', 9), ('Elemane sesquiterpenoids', 9), ('Thiodiketopiperazine alkaloids', 9), ('Actinomycins', 9), ('Other Docosanoids', 9), ('Griseofulvins', 9), ('Polyesters', 9), ('Hydroxy-hydroperoxyeicosatrienoic acids', 9), ('Bisnaphthalenes', 9), ('Leukotrienes', 9), ('3-acyl tetramic acids', 8), ('Mycosporine and Mycosporine-like amino acids', 8), ('Agarofuran sesquiterpenoids', 8), ('Bafilomycins', 8), ('Pseudoguaiane sesquiterpenoids', 8), ('4-pyrone derivatives', 8), ('Phytane diterpenoids', 8), ('Simple aromatic polyketides', 7), ('Abeolupane triterpenoids', 7), ('Pyrazine and Piperazine alkaloids', 7), ('Abeoabietane diterpenoids', 7), ('Sorbicilinoids', 7), ('Thia fatty acids', 7), ('Minor lignans', 7), ('Neoflavonoids', 7), ('Oligomeric stibenes', 7), ('RiPPs-Thiopeptides', 7), ('Fusidane triterpenoids', 7), ('Acorane sesquiterpenoids', 7), ('Arteminisin', 7), ('Stemona alkaloids', 7), ('Triketide meroterpenoids', 7), ('Azo and Azoxy alkaloids', 7), ('Glycosyldiacylglycerols', 7), ('Antimycins', 6), ('Cassane diterpenoids', 6), ('2-arylbenzofurans', 6), ('Pentalenane sesquiterpenoids', 6), ('Premyrsinane diterpenoids', 6), ('Quassinoids', 6), ('Botryane sesquiterpenoids', 6), ('Ascomycins and Rapamycins', 6), ('Dimeric phloroglucinols', 6), ('Polyprenol derivatives', 6), ('Acetate-derived alkaloids', 6), ('3-Spirotetramic acids', 6), ('Other polyketide meroterpenoids', 6), ('Hepoxilins', 6), ('Ascarosides', 6), ('Ingenane diterpenoids', 5), ('Cyclitols', 5), ('Miscellaneous meroterpenoids', 5), ('Epoxy fatty acids', 5), ('Simple diketopiperazine alkaloids', 5), ('Merosesquiterpenoids', 5), ('Resolvin Ds', 5), ('Daphnane diterpenoids', 5), ('Glycosylmonoacylglycerols', 5), ('12-oxophytodienoic acid metabolites', 5), ('Epoxyeicosatrienoic acids', 5), ('Cannabinoids', 5), ('Acetogenins', 5), ('3-Decalinoyltetramic acids', 4), ('Prezizaane sesquiterpenoids', 4), ('Carbocyclic fatty acids', 4), ('Miscellaneous polyketides', 4), ('Caryophyllane sesquiterpenoids', 4), ('Merohemiterpenoids', 4), ('Thromboxanes', 4), ('Cycloabietane diterpenoids', 4), ('Acyclic triterpenoids', 4), ('RiPPs-Lasso peptides', 4), ('RiPPs-Bottromycins', 4), ('Coumestan', 4), ('Irregular monoterpenoids', 4), ('Illudalane sesquiterpenoids', 4), ('Prodigiosins', 3), ('Quadrane sesquiterpenoids', 3), ('Carbapenems', 3), ('Dolabellane diterpenoids', 3), ('Scalarane sesterterpenoids', 3), ('Illudane sesquiterpenoids', 3), ('Fatty acid estolides', 3), ('Selaginellins', 3), ('Abeotaxane diterpenoids', 3), ('Prenylated,geranylated phloroglucinols', 3), ('Cephalotaxus alkaloids', 3), ('Valerenane sesquiterpenoids', 3), ('Apocarotenoids (C30, Ψ-Ψ)', 3), ('Furanoabietane diterpenoids', 3), ('Stictane triterpenoids', 3), ('Vitamin D2 and derivatives', 3), ('Segetane diterpenoids', 3), ('Glycosylglycerophospholipids', 3), ('Serratane triterpenoids', 3), ('Aromadendrane sesquiterpenoids', 3), ('Fukinane sesquiterpenoids', 3), ('Santalane sesquiterpenoids', 2), ('Bergamotane sesquiterpenoids', 2), ('Decalins with side chains', 2), ('Macrocyclic tetramic acids', 2), ('Methoxy fatty acids', 2), ('Phenoxazine alkaloids', 2), ('Benzoquinones', 2), ('RiPPs-Lanthipeptides', 2), ('Friedelane triterpenoids', 2), ('Biaryl type diarylheptanoids', 2), ('Humulane sesquiterpenoids', 2), ('Hasubanan alkaloids', 2), ('Elfamycins', 2), ('Clavams', 2), ('Hydroperoxy fatty acids', 2), ('Sativane sesquiterpenoids', 2), ('Marasmane sesquiterpenoids', 2), ('Flavandiols (Leucoanthocyanidins)', 2), ('Carabrane sesquiterpenoids', 2), ('Salinosporamides', 2), ('Gammacerane triterpenoids', 2), ('Naphthalenones', 2), ('Beyerane diterpenoids', 2), ('Spirodioxynaphthalenes', 2), ('Simple tetramate alkaloids', 2), ('Platensimycin and Platencins', 2), ('Carotenoids (C40, ε-ε)', 2), ('Furans', 2), ('Apotirucallane triterpenoids', 2), ('Copaane sesquiterpenoids', 2), ('Halogenated hydrocarbons', 2), ('Carotenoids (C50, γ-γ)', 2), ('Longipinane sesquiterpenoids', 2), ('Aeruginosins', 2), ('Maresins', 2), ('Thujane monoterpenoids', 2), ('Ladder polyethers', 2), ('Sophorolipids', 2), ('Tremulane sesquiterpenoids', 2), ('Cephamycins', 2), ('Lactarane sesquiterpenoids', 2), ('Viscidane diterpenoids', 2), ('Cycloapotirucallane triterpenoids', 1), ('Carotenoids (C40, γ-Ψ)', 1), ('Icetexane diterpenoids', 1), ('Briarane diterpenoids', 1), ('Isolactarane sesquiterpenoids', 1), ('Longibornane sesquiterpenoids', 1), ('Coumaronochromones', 1), ('Totarane diterpenoids', 1), ('Atisane diterpenoids', 1), ('Noreremophilane sesquiterpenoids', 1), ('Bactoprenols', 1), ('Zizaane sesquiterpenoids', 1), ('Apocarotenoids (Ψ-)', 1), ('Ansa peptide alkaloids', 1), ('Carotenoids (C40, ε-Ψ)', 1), ('Homoerythrina alkaloids', 1), ('Flavonostilbenes', 1), ('Hirsutane sesquiterpenoids', 1), ('Laurane sesquiterpenoids', 1), ('Mitomycins', 1), ('Carotenoids (C40, κ-κ)', 1), ('Trachylobane diterpenoids', 1), ('Aromatic polyketides with side chains', 1), ('Campherenane sesquiterpenoids', 1), ('Tricyclic guanidine alkaloids', 1), ('Aplysiatoxins', 1), ('Oligomycins', 1), ('Duclauxin and derivatives', 1), ('Oxazole alkaloids', 1), ('Phenalens', 1), ('Phytofurans', 1), ('Noreudesmane sesquiterpenoids', 1), ('Nonadrides', 1), ('Norsesterterpenoids', 1), ('Vitamin D3 and derivatives', 1), ('Heterocyclic fatty acids', 1), ('Vancomycins and Teicoplanins', 1), ('Meromonoterpenoids', 1), ('Taraxerane triterpenoids', 1), ('Fusicoccane diterpenoids', 1), ('Secogermacrane sesquiterpenoids', 1), ('Paraliane diterpenoids', 1), ('Baccharane triterpenoids', 1), ('Oxa-Bridged Macrolides', 1), ('Ophiobolane sesterterpenoids', 1), ('Tetrodotoxins', 1), ('Grayanotoxane diterpenoids', 1), ('Glycerophosphoglycerophosphoglycerols', 1), ('Aphidicolane diterpenoids', 1), ('Aristolane sesquiterpenoids', 1), ('Jatropholane diterpenoids', 1), ('Macrolide lactams', 1), ('Nagilactone diterpenoids', 1), ('Other Eicosanoids', 1), ('Clavulones', 1), ('Fungal cyclic polyketides (Miscellaneous)', 1), ('m-Terphenyls', 1), ('Fernane and Arborinane triterpenoids', 1), ('Longifolane sesquiterpenoids', 1), ('Presilphiperfolane and Probotryane sesquiterpenoids', 1), ('Diacylglycerols', 1), ('Gorgonane sesquiterpenoids', 1), ('Resolvin Es', 1), ('Carotenoids (C40, π-π)', 1), ('Open-chained neoflavonoids', 1), ('Cyclopiazonic acid-tpye tetramate alkaloids', 1), ('Lipoxins', 1), ('Fenchane monoterpenoids', 1), ('Secoabietane diterpenoids', 1), ('Iphionane sesquiterpenoids', 1), ('Miscellaneous apocarotenoids', 1), ('Phloroglucinol-terpene hybrids', 1), ('Chamigrane sesquiterpenoids', 1), ('Thujopsane sesquiterpenoids', 1), ('Carotenoids (C40, β-γ)', 1), ('Guanacastane diterpenoids', 1), ('Carotenoids (C50, Ψ-Ψ)', 1)]\n",
      "\n"
     ]
    }
   ],
   "source": [
    "pathways = defaultdict(int)\n",
    "superclasses = defaultdict(int)\n",
    "classes = defaultdict(int)\n",
    "for k,v in obj.items():\n",
    "    if len(v[\"pathway_results\"]) == 0:\n",
    "        pathways[\"EMPTY\"] += 1\n",
    "    for pathway in v[\"pathway_results\"]:\n",
    "        pathways[pathway] += 1\n",
    "    if len(v[\"superclass_results\"]) == 0:\n",
    "        superclasses[\"EMPTY\"] += 1\n",
    "    for superclass in v[\"superclass_results\"]:\n",
    "        superclasses[superclass] += 1\n",
    "    if len(v[\"class_results\"]) == 0:\n",
    "        classes[\"EMPTY\"] += 1\n",
    "    for classs in v[\"class_results\"]:\n",
    "        classes[classs] += 1\n",
    "p = sorted(pathways.items(), key = lambda x : -x[1])\n",
    "s = sorted(superclasses.items(), key = lambda x : -x[1])\n",
    "c = sorted(classes.items(), key = lambda x : -x[1])\n",
    "print(len(p), p)\n",
    "print()\n",
    "print(len(s), s)\n",
    "print()\n",
    "print(len(c), c)\n",
    "print()"
   ]
  },
  {
   "cell_type": "markdown",
   "metadata": {},
   "source": [
    "### Creating splits"
   ]
  },
  {
   "cell_type": "markdown",
   "metadata": {},
   "source": [
    "**./pathways_metadata/smiles_to_cmm**: Maps all valid smiles to cmm's with positive ion modes.\n",
    "\n",
    "**./pathways_metadata/path_to_cmm**: Maps each pathway to positive ion-mode cmm's with certain smiles of those pathways\n",
    "\n",
    "**./pathways_metadata/sc_to_cmm**: Maps each superclass to positive ion-mode cmm's with certain smiles of those pathways"
   ]
  },
  {
   "cell_type": "code",
   "execution_count": 52,
   "metadata": {},
   "outputs": [
    {
     "name": "stdout",
     "output_type": "stream",
     "text": [
      "Any [] in smiles_to_cmm:  False\n",
      "Count positive smiles: 18627\n",
      "Count positive cmms: 69673\n",
      "Percentage positive: 0.7064937435356629\n",
      "Ion Modes: [' Positive', 'negative', 'N/A', 'Negative', 'positive', 'Positive', ' Negative']\n",
      "[('EMPTY', 16157), ('Coumarins', 2046), ('Lignans', 756), ('Nicotinic acid alkaloids', 1742), ('Tryptophan alkaloids', 3835), ('Tyrosine alkaloids', 2378), ('Nucleosides', 1702), ('Meroterpenoids', 471), ('Saccharides', 890), ('Lysine alkaloids', 1442), ('Fatty acyls', 297), ('Macrolides', 615), ('Flavonoids', 5691), ('Small peptides', 4766), ('Anthranilic acid alkaloids', 2241), ('Fatty Acids and Conjugates', 826), ('Glycerophospholipids', 242), ('Xanthones', 172), ('Oligopeptides', 1017), ('Steroids', 3931), ('Fatty amides', 385), ('Triterpenoids', 1219), ('Chromanes', 414), ('Monoterpenoids', 776), ('Carotenoids (C40)', 225), ('Amino acid glycosides', 165), ('Linear polyketides', 446), ('Phenolic acids (C6-C1)', 923), ('Diterpenoids', 1133), ('Diarylheptanoids', 125), ('Pseudoalkaloids', 3650), ('Ornithine alkaloids', 1866), ('Polycyclic aromatic polyketides', 580), ('Octadecanoids', 65), ('Sesquiterpenoids', 1557), ('Fatty esters', 524), ('Phenylpropanoids (C6-C3)', 1102), ('Glycerolipids', 197), ('Aromatic polyketides', 362), ('Aminosugars and aminoglycosides', 407), ('Styrylpyrones', 52), ('Cyclic polyketides', 310), ('Polyols', 175), ('Sphingolipids', 140), ('Histidine alkaloids', 385), ('Phloroglucinols', 70), ('Proline alkaloids', 25), ('β-lactams', 200), ('Isoflavonoids', 729), ('Naphthalenes', 244), ('Peptide alkaloids', 706), ('Diazotetronic acids and derivatives', 42), ('Tetramate alkaloids', 17), ('Fatty acyl glycosides', 89), ('Stilbenoids', 230), ('Apocarotenoids', 174), ('Phenylethanoids (C6-C2)', 85), ('Guanidine alkaloids', 5), ('Sesterterpenoids', 14), ('Phenanthrenoids', 67), ('Miscellaneous polyketides', 9), ('Polyethers', 95), ('Serine alkaloids', 30), ('Mycosporine derivatives', 7), ('Eicosanoids', 15), ('Diphenyl ethers (DPEs)', 54), ('Terphenyls', 27), ('Polyprenols', 26), ('γ-lactam-β-lactones', 2), ('Mitomycin derivatives', 1), ('Carotenoids (C50)', 3)]\n"
     ]
    }
   ],
   "source": [
    "# need to map pathway -> cmm_id\n",
    "# smiles -> cmm_id, as pathway -> smiles exists\n",
    "\n",
    "# smiles -> cmm\n",
    "ion_modes = set()\n",
    "\n",
    "with open(\"ALL_GNPS_trimmedkeys_filteredsmiles.json\", \"r\") as f:\n",
    "    all_gnps = json.load(f)\n",
    "\n",
    "ct_all = len(all_gnps)\n",
    "ct_positive = 0\n",
    "\n",
    "# extract all positive Smiles->[CMM]\n",
    "smiles_to_cmm = defaultdict(list)\n",
    "for x in all_gnps:\n",
    "    ion_modes.add(x[\"Ion_Mode\"])\n",
    "    if x[\"Ion_Mode\"].strip().lower() == \"positive\":\n",
    "        ct_positive += 1\n",
    "        smiles_to_cmm[x[\"Smiles\"]].append(x[\"spectrum_id\"])\n",
    "print(\"Any [] in smiles_to_cmm: \", any(filter(lambda x : len(x) == 0, smiles_to_cmm.values())))\n",
    "print(f\"Count positive smiles: {len(smiles_to_cmm)}\")\n",
    "print(f\"Count positive cmms: {sum(map(lambda x : len(x), smiles_to_cmm.values()))}\")\n",
    "print(f\"Percentage positive: {ct_positive / ct_all}\")\n",
    "print(f\"Ion Modes: {list(ion_modes)}\")\n",
    "\n",
    "pathway_to_smiles = defaultdict(set)\n",
    "sc_to_smiles = defaultdict(set)\n",
    "\n",
    "# pathway/sc -> [smiles]\n",
    "for k,v in obj.items():\n",
    "    if len(v[\"pathway_results\"]) == 0:\n",
    "        pathway_to_smiles[\"EMPTY\"].add(k)\n",
    "    for pathway in v[\"pathway_results\"]:\n",
    "        pathway_to_smiles[pathway].add(k)\n",
    "    if len(v[\"superclass_results\"]) == 0:\n",
    "        sc_to_smiles[\"EMPTY\"].add(k)\n",
    "    for sc in v[\"superclass_results\"]:\n",
    "        sc_to_smiles[sc].add(k)\n",
    "\n",
    "\n",
    "\n",
    "pathway_to_cmm = defaultdict(list)\n",
    "unique_smiles_in_pathway_output = set()\n",
    "# pathway->smiles ===> pathway->smiles->cmms\n",
    "for path, smiles in pathway_to_smiles.items():\n",
    "    for smile in smiles:\n",
    "        if smile in smiles_to_cmm:\n",
    "            unique_smiles_in_pathway_output.add(smile)\n",
    "            for cmm in smiles_to_cmm[smile]:\n",
    "                pathway_to_cmm[path].append(cmm)\n",
    "\n",
    "sc_to_cmm = defaultdict(list)\n",
    "unique_smiles_in_sc_output = set()\n",
    "# sc->smiles ===> sc->smiles->cmms\n",
    "for sc, smiles in sc_to_smiles.items():\n",
    "    for smile in smiles:\n",
    "        if smile in smiles_to_cmm:\n",
    "            unique_smiles_in_sc_output.add(smile)\n",
    "            for cmm in smiles_to_cmm[smile]:\n",
    "                sc_to_cmm[sc].append(cmm)\n",
    "print([(k, len(v))for k,v in sc_to_cmm.items()])\n",
    "with open(\"./pathways_metadata/smiles_to_cmm.json\", \"w\") as f:\n",
    "    json.dump(smiles_to_cmm, f)\n",
    "with open(\"./pathways_metadata/path_to_cmm.json\", \"w\") as f:\n",
    "    json.dump(pathway_to_cmm, f)\n",
    "with open(\"./pathways_metadata/sc_to_cmm.json\", \"w\") as f:\n",
    "    json.dump(sc_to_cmm, f)\n"
   ]
  },
  {
   "cell_type": "code",
   "execution_count": 22,
   "metadata": {},
   "outputs": [],
   "source": [
    "# print samples for chen\n",
    "import random\n",
    "with open(\"./pathways_metadata/path_to_cmm.json\", \"r\") as f:\n",
    "    path_to_cmm_load = json.load(f)\n",
    "out = {}\n",
    "for k, v in path_to_cmm_load.items():\n",
    "    out[k] = random.sample(v, 8)\n",
    "\n",
    "with open(\"./pathways_metadata/path_to_cmm_samples.json\", \"w\") as f:\n",
    "    json.dump(out, f)"
   ]
  },
  {
   "cell_type": "code",
   "execution_count": 14,
   "metadata": {},
   "outputs": [
    {
     "name": "stdout",
     "output_type": "stream",
     "text": [
      "22669 18627 18504 18504\n"
     ]
    }
   ],
   "source": [
    "obj_keys = set(obj.keys())\n",
    "# obj_keys subset of all keys, smiles_keys subset of all keys\n",
    "print(len(obj_keys), len(smiles_to_cmm.keys()), len(unique_smiles_in_pathway_output), len(obj_keys.intersection(smiles_to_cmm.keys())))"
   ]
  },
  {
   "cell_type": "code",
   "execution_count": 41,
   "metadata": {},
   "outputs": [],
   "source": [
    "with open(\"./pathways_metadata/smiles_to_cmm.json\", \"r\") as f:\n",
    "    obj = json.load(f)"
   ]
  },
  {
   "cell_type": "code",
   "execution_count": 42,
   "metadata": {},
   "outputs": [
    {
     "name": "stderr",
     "output_type": "stream",
     "text": [
      "100%|██████████| 18627/18627 [00:00<00:00, 1862923.85it/s]"
     ]
    },
    {
     "name": "stdout",
     "output_type": "stream",
     "text": [
      "num of units: 69673\n"
     ]
    },
    {
     "name": "stderr",
     "output_type": "stream",
     "text": [
      "\n"
     ]
    }
   ],
   "source": [
    "all_units = []\n",
    "for k, v in tqdm.tqdm(obj.items()):\n",
    "    all_units += v\n",
    "all_units = list(all_units)\n",
    "print(\"num of units:\", len(all_units))\n",
    "from sklearn.model_selection import train_test_split\n",
    "X_train, X_tmp, y_train, y_tmp = train_test_split(all_units, np.zeros_like(all_units), test_size=0.2, random_state=42)\n",
    "X_val, X_test, y_val, y_test = train_test_split(X_tmp, y_tmp, test_size=0.5, random_state=42)"
   ]
  },
  {
   "cell_type": "code",
   "execution_count": 43,
   "metadata": {},
   "outputs": [
    {
     "name": "stdout",
     "output_type": "stream",
     "text": [
      "<class 'list'> 55738 6967 6968\n"
     ]
    }
   ],
   "source": [
    "print(type(X_train), len(X_train), len(X_val), len(X_test))"
   ]
  },
  {
   "cell_type": "code",
   "execution_count": 44,
   "metadata": {},
   "outputs": [],
   "source": [
    "with open(\"./pathways_metadata/train.json\", \"w\") as f:\n",
    "    json.dump(X_train, f)\n",
    "with open(\"./pathways_metadata/val.json\", \"w\") as f:\n",
    "    json.dump(X_val, f)\n",
    "with open(\"./pathways_metadata/test.json\", \"w\") as f:\n",
    "    json.dump(X_test, f)"
   ]
  }
 ],
 "metadata": {
  "interpreter": {
   "hash": "00eb4842bf1b72b71abf62257ce3e38328ef92c154c737ec21cf3c1f5526806a"
  },
  "kernelspec": {
   "display_name": "Python 3.7.11 64-bit ('smart': conda)",
   "language": "python",
   "name": "python3"
  },
  "language_info": {
   "codemirror_mode": {
    "name": "ipython",
    "version": 3
   },
   "file_extension": ".py",
   "mimetype": "text/x-python",
   "name": "python",
   "nbconvert_exporter": "python",
   "pygments_lexer": "ipython3",
   "version": "3.7.11"
  },
  "orig_nbformat": 3
 },
 "nbformat": 4,
 "nbformat_minor": 2
}
