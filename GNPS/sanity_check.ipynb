{
 "cells": [
  {
   "cell_type": "code",
   "execution_count": 15,
   "metadata": {},
   "outputs": [],
   "source": [
    "import torch, os, json, math, torch.nn as nn, pytorch_lightning as pl, numpy as np, scipy.stats as stats, random\n",
    "from torch.utils.data import DataLoader, Dataset\n",
    "import logging\n",
    "import tqdm\n",
    "class PathwaysSampler():\n",
    "    def __init__(self, allowed_cmms, classes_map = \"path_to_cmm.json\", path = \"/workspace/smartmwms/data_siamese\"):\n",
    "        \"\"\"Generates a pathways sampler\n",
    "\n",
    "        Args:\n",
    "            path (string): Path to folder containing metadata files. Classmap should be in {path}/npclassifier/pathways/{classes_map}\n",
    "        \"\"\"\n",
    "        super().__init__()\n",
    "\n",
    "        self.my_logger = logging.getLogger(\"lightning\")\n",
    "\n",
    "        self.my_logger.info(f\"Enter Samplers\")\n",
    "        self.my_logger.info(f\"PathwaysSampler: {classes_map}\")\n",
    "\n",
    "        allow = set(allowed_cmms)\n",
    "        with open(os.path.join(path, \"npclassifier\", \"pathways\", classes_map), \"r\") as f:\n",
    "            # dictionary mapping pathways to all cmms\n",
    "            self.meta = json.load(f)\n",
    "        \n",
    "        # convert all values to a set, and intersect with only the allowed values\n",
    "        for classs, vals in self.meta.items():\n",
    "            vals = set(vals)\n",
    "            self.meta[classs] = list(vals.intersection(allow))\n",
    "\n",
    "        self.pathways_and_empty = list(set([k for k,v in self.meta.items() if len(v) >= 2]))\n",
    "        self.pathways = list(set(self.pathways_and_empty) - set([\"EMPTY\"]))\n",
    "        self.all_samples = []\n",
    "        self.all_labels = []\n",
    "\n",
    "        self.my_logger.info(f\"PathwaysSampler classes_all: {str(self.pathways_and_empty)}\")\n",
    "\n",
    "        self.my_logger.info(f\"Exit Samplers\")\n",
    "        for k, p in self.meta.items():\n",
    "            self.all_samples += p\n",
    "            self.all_labels += [k] * len(p)\n",
    "    \n",
    "    def get_classes(self):\n",
    "        return self.pathways\n",
    "    \n",
    "    def ct_samples(self):\n",
    "        return len(self.all_samples)\n",
    "    \n",
    "    def get_sample(self, i):\n",
    "        return self.all_samples[i], self.all_labels[i]\n",
    "        \n",
    "    def sample_real_class(self):\n",
    "        return random.choice(self.pathways)\n",
    "\n",
    "    def sample_all_class(self):\n",
    "        return random.choice(self.pathways_and_empty)\n",
    "\n",
    "    def sample_from_class(self, classs):\n",
    "        return random.choice(self.meta[classs])\n",
    "\n",
    "    def sample_neg_real_class(self, classs):\n",
    "        classs2 = self.sample_real_class()\n",
    "        while classs2 == classs:\n",
    "            classs2 = self.sample_real_class()\n",
    "        return self.sample_from_class(classs2)\n",
    "\n",
    "    def sample_neg_all_class(self, classs):\n",
    "        classs2 = self.sample_all_class()\n",
    "        while classs2 == classs:\n",
    "            classs2 = self.sample_all_class()\n",
    "        return self.sample_from_class(classs2)\n",
    "    \n",
    "class SiameseCustomizableTripletDataset(Dataset):\n",
    "    def __init__(self, sampler, dimensions = 2995, size = 50000, path = \"./data_siamese/singular_specs\", small = False):\n",
    "        self.path = path\n",
    "        self.size = size if not small else 30\n",
    "        self.dimensions = dimensions\n",
    "        self.sampler = sampler\n",
    "    def __len__(self):\n",
    "        return self.size\n",
    "\n",
    "    def load_spec(self, i):\n",
    "        '''\n",
    "        Reads the spec with the given CMM (CMMSLIB%%%%%%%%.npy) from the {path} folder. Do not include .npy\n",
    "        in the filename. Loads the first {dimensions} dimensions of the float array. \n",
    "        '''\n",
    "        return np.load(os.path.join(self.path, i + \".npy\"))[:self.dimensions].astype(\"float32\")\n",
    "\n",
    "    def __getitem__(self, i):\n",
    "        '''\n",
    "        Samples an item. Samples a random class (main class) and samples an anchor from there. Then, \n",
    "        Samples another different molecule as the positive pair. Then samples another class and another sample\n",
    "        for the negative pair. Returns the three spectra as a 3-tuple. \n",
    "        '''\n",
    "        class1 = self.sampler.sample_real_class()\n",
    "        cmm1 = self.sampler.sample_from_class(class1)\n",
    "        cmm2 = self.sampler.sample_from_class(class1)\n",
    "        while cmm1 == cmm2:\n",
    "            cmm2 = self.sampler.sample_from_class(class1)\n",
    "        cmm3 = self.sampler.sample_neg_real_class(class1)\n",
    "\n",
    "        return self.load_spec(cmm1).reshape((1, -1)), self.load_spec(cmm2).reshape((1, -1)), self.load_spec(cmm3).reshape((1, -1))"
   ]
  },
  {
   "cell_type": "code",
   "execution_count": 14,
   "metadata": {},
   "outputs": [],
   "source": [
    "with open(\"./pathways_metadata/npclassifier/pathways/train.json\", \"r\") as f:\n",
    "    objtr = json.load(f)\n",
    "with open(\"./pathways_metadata/npclassifier/pathways/val.json\", \"r\") as f:\n",
    "    objva = json.load(f)\n",
    "\n",
    "paths, scs = \"path_to_cmm.json\", \"sc_to_cmm.json\"\n",
    "ps_tr = PathwaysSampler(objtr, paths, \"./pathways_metadata\")\n",
    "ps_va = PathwaysSampler(objva, paths, \"./pathways_metadata\")\n",
    "ds_va = SiameseCustomizableTripletDataset(ps_va, path = \"../smart_data/singular_specs\")"
   ]
  },
  {
   "cell_type": "code",
   "execution_count": 18,
   "metadata": {},
   "outputs": [],
   "source": [
    "from sklearn.metrics.pairwise import cosine_similarity"
   ]
  },
  {
   "cell_type": "code",
   "execution_count": 21,
   "metadata": {},
   "outputs": [
    {
     "name": "stderr",
     "output_type": "stream",
     "text": [
      "100%|██████████| 50000/50000 [01:28<00:00, 567.52it/s]"
     ]
    },
    {
     "name": "stdout",
     "output_type": "stream",
     "text": [
      "50000 50000\n"
     ]
    },
    {
     "name": "stderr",
     "output_type": "stream",
     "text": [
      "\n"
     ]
    }
   ],
   "source": [
    "pos = []\n",
    "neg = []\n",
    "ct = 50000\n",
    "for i in tqdm.tqdm(range(ct)):\n",
    "    a, p, n = ds_va[i]\n",
    "    sim_pos, sim_neg = cosine_similarity(a, p), cosine_similarity(a, n)\n",
    "    pos.append(sim_pos)\n",
    "    neg.append(sim_neg)\n",
    "print(len(pos), len(neg))"
   ]
  },
  {
   "cell_type": "code",
   "execution_count": 39,
   "metadata": {},
   "outputs": [
    {
     "name": "stdout",
     "output_type": "stream",
     "text": [
      "perf: [[1.]], bad: [[0.]]\n"
     ]
    }
   ],
   "source": [
    "perf = cosine_similarity(np.array([[1,1, 1]]), np.array([[1, 1, 1]]))\n",
    "bad = cosine_similarity(np.array([[1,0, 0]]), np.array([[0, 0, 1]]))\n",
    "print(f\"perf: {perf}, bad: {bad}\")\n",
    "# cosinsim = 1 = perfect, "
   ]
  },
  {
   "cell_type": "code",
   "execution_count": 29,
   "metadata": {},
   "outputs": [
    {
     "name": "stdout",
     "output_type": "stream",
     "text": [
      "50000 50000\n"
     ]
    }
   ],
   "source": [
    "posf, negf = np.array(pos).flatten(), np.array(neg).flatten()\n",
    "print(len(pos), len(neg))"
   ]
  },
  {
   "cell_type": "code",
   "execution_count": 40,
   "metadata": {},
   "outputs": [],
   "source": [
    "from sklearn.metrics import auc, roc_curve, roc_auc_score\n",
    "labs = [0] * len(pos) + [1] * len(neg)\n",
    "dist = np.concatenate((negf, posf), axis=0)\n",
    "fpr, tpr, thresh = roc_curve(labs, dist, pos_label=1)"
   ]
  },
  {
   "cell_type": "code",
   "execution_count": 43,
   "metadata": {},
   "outputs": [
    {
     "data": {
      "image/png": "[encoded data removed]",
      "text/plain": [
       "<Figure size 864x864 with 1 Axes>"
      ]
     },
     "metadata": {},
     "output_type": "display_data"
    }
   ],
   "source": [
    "from matplotlib import pyplot as plt\n",
    "width = 12\n",
    "fig, ax = plt.subplots(figsize=(width, width), facecolor='w')\n",
    "ax.plot(fpr, tpr,\n",
    "        label=f'Dot product high res : (AUCROC = {auc(fpr, tpr):.2%},{roc_auc_score(labs, dist):.2%})')\n",
    "ax.legend(loc='lower center')\n",
    "ax.set_xlabel('False positive rate')\n",
    "ax.set_ylabel('True positive rate')\n",
    "plt.show()"
   ]
  }
 ],
 "metadata": {
  "interpreter": {
   "hash": "00eb4842bf1b72b71abf62257ce3e38328ef92c154c737ec21cf3c1f5526806a"
  },
  "kernelspec": {
   "display_name": "Python 3.7.11 ('smart')",
   "language": "python",
   "name": "python3"
  },
  "language_info": {
   "codemirror_mode": {
    "name": "ipython",
    "version": 3
   },
   "file_extension": ".py",
   "mimetype": "text/x-python",
   "name": "python",
   "nbconvert_exporter": "python",
   "pygments_lexer": "ipython3",
   "version": "3.7.11"
  },
  "orig_nbformat": 4
 },
 "nbformat": 4,
 "nbformat_minor": 2
}
