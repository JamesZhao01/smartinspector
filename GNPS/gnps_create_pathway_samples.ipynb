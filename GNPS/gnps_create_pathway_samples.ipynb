{
 "cells": [
  {
   "cell_type": "markdown",
   "metadata": {},
   "source": [
    "# 2/23/22\n",
    "\n",
    "This file creates pathway/cmm samples for chen to view"
   ]
  },
  {
   "cell_type": "code",
   "execution_count": 1,
   "metadata": {},
   "outputs": [],
   "source": [
    "import json, os, numpy as np, tqdm, requests\n",
    "from collections import defaultdict\n",
    "from rdkit import Chem"
   ]
  },
  {
   "cell_type": "code",
   "execution_count": 2,
   "metadata": {},
   "outputs": [
    {
     "name": "stderr",
     "output_type": "stream",
     "text": [
      "100%|██████████| 210569/210569 [00:00<00:00, 1437294.89it/s]"
     ]
    },
    {
     "name": "stdout",
     "output_type": "stream",
     "text": [
      "Data Len:  210569\n",
      "Data Len after:  209654\n"
     ]
    },
    {
     "name": "stderr",
     "output_type": "stream",
     "text": [
      "\n"
     ]
    }
   ],
   "source": [
    "with open(\"ALL_GNPS.json\") as f:\n",
    "    all_gnps = json.load(f)\n",
    "del_list = []\n",
    "for i in tqdm.tqdm(range(len(all_gnps))):\n",
    "    if all_gnps[i][\"peaks_json\"] == \"[]\":\n",
    "        del_list.append(i)\n",
    "print(\"Data Len: \", len(all_gnps))\n",
    "for i in reversed(del_list):\n",
    "    del all_gnps[i]\n",
    "print(\"Data Len after: \", len(all_gnps))\n"
   ]
  },
  {
   "cell_type": "code",
   "execution_count": 3,
   "metadata": {},
   "outputs": [],
   "source": [
    "# spectrum_id, url\n",
    "for sample in all_gnps:\n",
    "    keys = set(sample.keys())\n",
    "    for key in keys:\n",
    "        if key != \"spectrum_id\" and key != \"url\" and key.lower() != \"smiles\":\n",
    "            del sample[key]\n"
   ]
  },
  {
   "cell_type": "code",
   "execution_count": 9,
   "metadata": {},
   "outputs": [],
   "source": [
    "all_gnps[1]\n",
    "ids, urls, smiles = [v[\"spectrum_id\"] for v in all_gnps], [v[\"url\"] for v in all_gnps], [v[\"Smiles\"] for v in all_gnps]\n",
    "id_to_url, id_to_smiles = dict(zip(ids, urls)), dict(zip(ids, smiles))"
   ]
  },
  {
   "cell_type": "code",
   "execution_count": 12,
   "metadata": {},
   "outputs": [
    {
     "name": "stdout",
     "output_type": "stream",
     "text": [
      "Shikimates and Phenylpropanoids\n",
      "\t CCMSLIB00005722590 https://gnps.ucsd.edu/ProteoSAFe/gnpslibraryspectrum.jsp?SpectrumID=CCMSLIB00005722590 COC1=CC(=CC(OC)=C1O)C2C3C(COC3=O)CC4=C2C=C5OCOC5=C4O\n",
      "\t CCMSLIB00005743042 https://gnps.ucsd.edu/ProteoSAFe/gnpslibraryspectrum.jsp?SpectrumID=CCMSLIB00005743042 C[C@@H]1O[C@@H](O[C@@H]2[C@@H](O)[C@H](O)[C@@H](CO)O[C@H]2OC2=CC(O)=C3C(=O)C[C@H](OC3=C2)C2=CC(O)=C(O)C=C2)[C@H](O)[C@H](O)[C@H]1O\n",
      "\t CCMSLIB00000079634 https://gnps.ucsd.edu/ProteoSAFe/gnpslibraryspectrum.jsp?SpectrumID=CCMSLIB00000079634 CC(=CCc1c(O)cc(O)c2C(=O)CC(Oc12)c3ccc(O)cc3)C\n",
      "\t CCMSLIB00000426335 https://gnps.ucsd.edu/ProteoSAFe/gnpslibraryspectrum.jsp?SpectrumID=CCMSLIB00000426335 OC1=CC(O)=C2C(OC(=C(O)C2=O)C2=CC(O)=C(O)C=C2)=C1\n",
      "\t CCMSLIB00005747796 https://gnps.ucsd.edu/ProteoSAFe/gnpslibraryspectrum.jsp?SpectrumID=CCMSLIB00005747796 OC[C@H]1O[C@@H](OC2=CC(O)=C3C(=O)CC(OC3=C2)C2=CC(O)=C(O)C=C2)[C@H](O)[C@@H](O)[C@@H]1O\n",
      "\t CCMSLIB00005761085 https://gnps.ucsd.edu/ProteoSAFe/gnpslibraryspectrum.jsp?SpectrumID=CCMSLIB00005761085 COC1=C(N)C=C(NC(C)=O)C=C1\n",
      "\t CCMSLIB00005776030 https://gnps.ucsd.edu/ProteoSAFe/gnpslibraryspectrum.jsp?SpectrumID=CCMSLIB00005776030 c1ccc(cc1)/N=N\\c2ccc(cc2)/N=N/c3c4ccccc4ccc3O\n",
      "\t CCMSLIB00000222266 https://gnps.ucsd.edu/ProteoSAFe/gnpslibraryspectrum.jsp?SpectrumID=CCMSLIB00000222266 COC1=CC=C(C=C1)C2=COC3=C(C2=O)C=CC(=C3)O\n",
      "Alkaloids\n",
      "\t CCMSLIB00005723518 https://gnps.ucsd.edu/ProteoSAFe/gnpslibraryspectrum.jsp?SpectrumID=CCMSLIB00005723518 C/C=C/C(=O)N(CCCC)C(C(=O)NCc1ccccc1)c2cccnc2\n",
      "\t CCMSLIB00000578448 https://gnps.ucsd.edu/ProteoSAFe/gnpslibraryspectrum.jsp?SpectrumID=CCMSLIB00000578448 CN1CCN(CC1)C(C1=CC=CC=C1)C1=CC=C(Cl)C=C1\n",
      "\t CCMSLIB00000208831 https://gnps.ucsd.edu/ProteoSAFe/gnpslibraryspectrum.jsp?SpectrumID=CCMSLIB00000208831 c1(nc(nc(n1)OC)NCC)NC(CC)C\n",
      "\t CCMSLIB00005753569 https://gnps.ucsd.edu/ProteoSAFe/gnpslibraryspectrum.jsp?SpectrumID=CCMSLIB00005753569 CCC(CO)NCCNC(CC)CO\n",
      "\t CCMSLIB00005730346 https://gnps.ucsd.edu/ProteoSAFe/gnpslibraryspectrum.jsp?SpectrumID=CCMSLIB00005730346 CCNC(C)CC1=CC2=C(C=C1)OCO2\n",
      "\t CCMSLIB00005773567 https://gnps.ucsd.edu/ProteoSAFe/gnpslibraryspectrum.jsp?SpectrumID=CCMSLIB00005773567 C1CCC(CC1)NC1=NC2=CC=CC=C2S1\n",
      "\t CCMSLIB00000206284 https://gnps.ucsd.edu/ProteoSAFe/gnpslibraryspectrum.jsp?SpectrumID=CCMSLIB00000206284 [H]N([H])c(n2)nc(N([H])[H])c(c([H])2)C([H])([H])c(c([H])1)c(C([H])([H])[H])c([H])c(OC([H])([H])[H])c(OC([H])([H])[H])1\n",
      "\t CCMSLIB00005739781 https://gnps.ucsd.edu/ProteoSAFe/gnpslibraryspectrum.jsp?SpectrumID=CCMSLIB00005739781 O[C@@H]1CCN2CC3=CC=CC=C3N=C12\n",
      "Carbohydrates\n",
      "\t CCMSLIB00000085793 https://gnps.ucsd.edu/ProteoSAFe/gnpslibraryspectrum.jsp?SpectrumID=CCMSLIB00000085793 Nc1ccc(CCNc2ncnc3n(cnc23)[C@@H]4O[C@H](CO)[C@@H](O)[C@H]4O)cc1\n",
      "\t CCMSLIB00000218422 https://gnps.ucsd.edu/ProteoSAFe/gnpslibraryspectrum.jsp?SpectrumID=CCMSLIB00000218422 OC(O1)[C@H](N)[C@@H](O)[C@H](O)[C@H]1COP(O)(O)=O\n",
      "\t CCMSLIB00005464375 https://gnps.ucsd.edu/ProteoSAFe/gnpslibraryspectrum.jsp?SpectrumID=CCMSLIB00005464375 CC(=O)N[C@H]1[C@H](O)O[C@H](CO)[C@H](O)[C@@H]1O\n",
      "\t CCMSLIB00000080469 https://gnps.ucsd.edu/ProteoSAFe/gnpslibraryspectrum.jsp?SpectrumID=CCMSLIB00000080469 Nc1ncnc2n(cnc12)[C@H]3C[C@H](O)[C@@H](CO)O3.O\n",
      "\t CCMSLIB00000213661 https://gnps.ucsd.edu/ProteoSAFe/gnpslibraryspectrum.jsp?SpectrumID=CCMSLIB00000213661 C(C1C(C(C(C(O1)O)O)O)O)OP(=O)(O)O\n",
      "\t CCMSLIB00005759580 https://gnps.ucsd.edu/ProteoSAFe/gnpslibraryspectrum.jsp?SpectrumID=CCMSLIB00005759580 C1=CN(C(=O)NC1=O)C2C(C(C(O2)CO)O)O\n",
      "\t CCMSLIB00000222916 https://gnps.ucsd.edu/ProteoSAFe/gnpslibraryspectrum.jsp?SpectrumID=CCMSLIB00000222916 OC[C@@H](O1)[C@@H](O)C[C@@H]1N(C=2)C(=O)N=C(N)C2\n",
      "\t CCMSLIB00005733463 https://gnps.ucsd.edu/ProteoSAFe/gnpslibraryspectrum.jsp?SpectrumID=CCMSLIB00005733463 c1nc(nn1[C@H]2[C@@H]([C@@H]([C@H](O2)CO)O)O)C(=O)N\n",
      "Polyketides\n",
      "\t CCMSLIB00005772469 https://gnps.ucsd.edu/ProteoSAFe/gnpslibraryspectrum.jsp?SpectrumID=CCMSLIB00005772469 CN(C)CC/C=C\\1/c2ccccc2COc3c1cc(cc3)CC(=O)O\n",
      "\t CCMSLIB00005722651 https://gnps.ucsd.edu/ProteoSAFe/gnpslibraryspectrum.jsp?SpectrumID=CCMSLIB00005722651 COC1=C(C(=O)OC2(C)C(=O)C=C3C=C(OC=C3C2=O)\\\\C=C\\\\C)C(C)=CC(O)=C1\n",
      "\t CCMSLIB00005774836 https://gnps.ucsd.edu/ProteoSAFe/gnpslibraryspectrum.jsp?SpectrumID=CCMSLIB00005774836 CC[C@H]1OC(=O)[C@H](C)[C@@H](O[C@H]2C[C@@](C)(OC)[C@@H](O)[C@H](C)O2)[C@H](C)[C@@H](O[C@@H]2O[C@H](C)C[C@@H]([C@H]2O)N(C)C)[C@@](C)(C[C@@H](C)C(=O)[C@H](C)[C@@H](O)[C@]1(C)O)OC\n",
      "\t CCMSLIB00000852454 https://gnps.ucsd.edu/ProteoSAFe/gnpslibraryspectrum.jsp?SpectrumID=CCMSLIB00000852454 COC1=C(C(=CC=C1)C)C(=O)O[C@@H]2C[C@@H](O[C@H](C)[C@H]2O)O[C@H]3[C@H](O)C[C@@H](O[C@@H]3C)O[C@@H]4CCC[C@H]5[C@H]4\\C=C/[C@@H]6CCCC\\C=C\\[C@H]7\\C=C(/[C@@H](C)C[C@@]7\\8OC(=O)\\C(=C8O)OC(=O)[C@]56C)C(O)=O\n",
      "\t CCMSLIB00005727742 https://gnps.ucsd.edu/ProteoSAFe/gnpslibraryspectrum.jsp?SpectrumID=CCMSLIB00005727742 OC1=C(C(C2=C(O)C=CC=C2C3=O)=O)C3=CC(O4)=C1[C@@]5(O)[C@@H]4OCC5\n",
      "\t CCMSLIB00005727312 https://gnps.ucsd.edu/ProteoSAFe/gnpslibraryspectrum.jsp?SpectrumID=CCMSLIB00005727312 C[C@H](CC1=C(C(=C2C(=O)C=C3C4=C5C(=CC(=O)C6=C(C(=C(C(=C56)C1=C42)C[C@@H](C)O)OC)O)OCO3)O)OC)O\n",
      "\t CCMSLIB00005463855 https://gnps.ucsd.edu/ProteoSAFe/gnpslibraryspectrum.jsp?SpectrumID=CCMSLIB00005463855 C[C@H]1C[C@@H](OC)C[C@H](CC[C@@H]([C@H](O)[C@@H]([C@@H]2C[C@H](O)C[C@H](O)[C@H](C)[C@@H](OC)C[C@@H]3CC=C[C@@H](C[C@@H](O[C@@H]4[C@@H](OC([C@H](O)CO)=O)[C@H](OC)[C@@H](OC)CO4)C/C=C(C)/ccC(O[C@H]([C@H]([C@@H](O)[C@H](CC[C@H]5C[C@H](OC)C[C@H](C)O5)C)C)C[C@H](O)C[C@H](O)[C@H](C)[C@@H](OC)C[C@@H]6CC=C[C@@H](C[C@@H](O[C@@H]7[C@@H](OC([C@@H](O)CO)=O)[C@H](OC)[C@@H](OC)CO7)C/C=C(C)/C=C/C(O2)=O)O6)=O)O3)C)C)O1\n",
      "\t CCMSLIB00005730793 https://gnps.ucsd.edu/ProteoSAFe/gnpslibraryspectrum.jsp?SpectrumID=CCMSLIB00005730793 O=P(SC(CC)C)(OCC)N1C(=O)SCC1\n",
      "Terpenoids\n",
      "\t CCMSLIB00005740353 https://gnps.ucsd.edu/ProteoSAFe/gnpslibraryspectrum.jsp?SpectrumID=CCMSLIB00005740353 CC1C2C(CC3C4CC=C5CC(O)CCC5(C)C4CCC23C)OC11CCC(C)CN1C(C)=O\n",
      "\t CCMSLIB00005738891 https://gnps.ucsd.edu/ProteoSAFe/gnpslibraryspectrum.jsp?SpectrumID=CCMSLIB00005738891 COC[C@]12CN(C)C3[C@@H]4[C@H](OC)[C@H]1[C@]3([C@@H]1C[C@@]3(O)[C@H](OC(=O)C5=CC=CC=C5)[C@@H]1[C@]4(OC(C)=O)[C@@H](O)[C@@H]3OC)[C@H](C[C@H]2O)OC\n",
      "\t CCMSLIB00005465555 https://gnps.ucsd.edu/ProteoSAFe/gnpslibraryspectrum.jsp?SpectrumID=CCMSLIB00005465555 [H][C@@]12CC[C@]3([H])C[C@H](O)CC[C@]3(C)[C@H]1C[C@H](O)[C@@]4(C)[C@H]2CC[C@@H]4[C@@H](CCC(NCCS(=O)(O)=O)=O)C\n",
      "\t CCMSLIB00000855681 https://gnps.ucsd.edu/ProteoSAFe/gnpslibraryspectrum.jsp?SpectrumID=CCMSLIB00000855681 COC1CC(OC(C)C1OC2OC(COC3OC(CO)C(O)C(O)C3O)C(O)C(O)C2O)O[C@H]4CC[C@@]5(C)C(CCC6C5CC[C@]7(C)C(CCC67O)\\C8=C\\C(=O)OC8)C4\n",
      "\t CCMSLIB00005770680 https://gnps.ucsd.edu/ProteoSAFe/gnpslibraryspectrum.jsp?SpectrumID=CCMSLIB00005770680 C[C@@H]1CC2=C(C1=O)C(=C(C(=C2)C)CCO)C\n",
      "\t CCMSLIB00005463682 https://gnps.ucsd.edu/ProteoSAFe/gnpslibraryspectrum.jsp?SpectrumID=CCMSLIB00005463682 OC1=C(C/C=C(CC/C=C(C)/CC/C=C(C)/CC/C=C(C)\\C)\\C)C=C(C(O)=O)C=C1\n",
      "\t CCMSLIB00000205459 https://gnps.ucsd.edu/ProteoSAFe/gnpslibraryspectrum.jsp?SpectrumID=CCMSLIB00000205459 O=CC(C)=CC=CC=C(C)C=CC=C(C)C=CC(=C(C)1)C(C)(C)CC(O)C1\n",
      "\t CCMSLIB00005765015 https://gnps.ucsd.edu/ProteoSAFe/gnpslibraryspectrum.jsp?SpectrumID=CCMSLIB00005765015 C[C@]12CC[C@H]3[C@@H](CCC4=C3C=CC(O)=C4)[C@@H]1CCC2=O\n",
      "Fatty acids\n",
      "\t CCMSLIB00000426259 https://gnps.ucsd.edu/ProteoSAFe/gnpslibraryspectrum.jsp?SpectrumID=CCMSLIB00000426259 OC(C(CC(O)=O)C(O)=O)C(O)=O\n",
      "\t CCMSLIB00005720020 https://gnps.ucsd.edu/ProteoSAFe/gnpslibraryspectrum.jsp?SpectrumID=CCMSLIB00005720020 CCCCCCCCCCCCC[C@@H]1[C@@H](C(=O)O)[C@H](C)C(=O)O1\n",
      "\t CCMSLIB00000426921 https://gnps.ucsd.edu/ProteoSAFe/gnpslibraryspectrum.jsp?SpectrumID=CCMSLIB00000426921 OC(=O)CCCCC1=CC=CC=C1\n",
      "\t CCMSLIB00000845394 https://gnps.ucsd.edu/ProteoSAFe/gnpslibraryspectrum.jsp?SpectrumID=CCMSLIB00000845394 CCCCCCC(O)CCCCCC\\C=C\\[C@H](O)[C@@H](O)[C@H](O)[C@H](NC(C)=O)C(O)=O\n",
      "\t CCMSLIB00004684230 https://gnps.ucsd.edu/ProteoSAFe/gnpslibraryspectrum.jsp?SpectrumID=CCMSLIB00004684230 CCCCCC=CCC=CCCCCCCCC(=O)OC(CC(=O)[O-])C[N+](C)(C)C\n",
      "\t CCMSLIB00005762682 https://gnps.ucsd.edu/ProteoSAFe/gnpslibraryspectrum.jsp?SpectrumID=CCMSLIB00005762682 CCCCCCCCCCCCN\n",
      "\t CCMSLIB00000217777 https://gnps.ucsd.edu/ProteoSAFe/gnpslibraryspectrum.jsp?SpectrumID=CCMSLIB00000217777 [O-1]C(=O)CCC[N+1](C)(C)C\n",
      "\t CCMSLIB00000426468 https://gnps.ucsd.edu/ProteoSAFe/gnpslibraryspectrum.jsp?SpectrumID=CCMSLIB00000426468 CC(C)CC(O)C(O)=O\n",
      "Amino acids and Peptides\n",
      "\t CCMSLIB00005758797 https://gnps.ucsd.edu/ProteoSAFe/gnpslibraryspectrum.jsp?SpectrumID=CCMSLIB00005758797 C1=CC=C(C=C1)CC(C(=O)O)N\n",
      "\t CCMSLIB00000841859 https://gnps.ucsd.edu/ProteoSAFe/gnpslibraryspectrum.jsp?SpectrumID=CCMSLIB00000841859 CCC1=CC=C(CCOC2=CC=C(CC3SC(=O)NC3=O)C=C2)N=C1\n",
      "\t CCMSLIB00005736573 https://gnps.ucsd.edu/ProteoSAFe/gnpslibraryspectrum.jsp?SpectrumID=CCMSLIB00005736573 CC[C@H](C)[C@@H]1NC(=O)[C@H]2CSC(=N2)[C@H](NC(=O)c3csc(CNC(=O)[C@H]4N=C1O[C@@H]4C)n3)[C@@H](C)CC\n",
      "\t CCMSLIB00000222905 https://gnps.ucsd.edu/ProteoSAFe/gnpslibraryspectrum.jsp?SpectrumID=CCMSLIB00000222905 NC(=N)NCCCC(C=O)NC(=O)C(CC(C)C)NC(=O)C(CC(C)C)NC(C)=O\n",
      "\t CCMSLIB00005720258 https://gnps.ucsd.edu/ProteoSAFe/gnpslibraryspectrum.jsp?SpectrumID=CCMSLIB00005720258 O=C(N[C@@H](CC(C)C)C(N[C@H](CC(C)C)C(N[C@H]1[C@@H](C)CC)=O)=O)[C@H]([C@@H](C)CC)NC([C@@H]([C@@H](C)CC)NC([C@H](CC(C)C)NC1=O)=O)=O\n",
      "\t CCMSLIB00005720604 https://gnps.ucsd.edu/ProteoSAFe/gnpslibraryspectrum.jsp?SpectrumID=CCMSLIB00005720604 C(C[C@@H](C(=O)O)N)CNC(=O)N\n",
      "\t CCMSLIB00000855474 https://gnps.ucsd.edu/ProteoSAFe/gnpslibraryspectrum.jsp?SpectrumID=CCMSLIB00000855474 CC(O[C@@H]1O[C@H](CO)[C@@H](O)[C@H](O)[C@H]1O)C(C)C#N\n",
      "\t CCMSLIB00005759779 https://gnps.ucsd.edu/ProteoSAFe/gnpslibraryspectrum.jsp?SpectrumID=CCMSLIB00005759779 C(CN=C(N)N)C(=O)O\n",
      "EMPTY\n",
      "\t CCMSLIB00000212389 https://gnps.ucsd.edu/ProteoSAFe/gnpslibraryspectrum.jsp?SpectrumID=CCMSLIB00000212389 CC(C)OC(=O)NC(C(=O)N[C@@H](C)c1ccc(C)cc1)C(C)C\n",
      "\t CCMSLIB00005733620 https://gnps.ucsd.edu/ProteoSAFe/gnpslibraryspectrum.jsp?SpectrumID=CCMSLIB00005733620 C1C(COC1(CN2C=NC=N2)C3=C(C=C(C=C3)Cl)Cl)Br\n",
      "\t CCMSLIB00005776514 https://gnps.ucsd.edu/ProteoSAFe/gnpslibraryspectrum.jsp?SpectrumID=CCMSLIB00005776514 CCCCCCCCN1SC(Cl)=C(Cl)C1=O\n",
      "\t CCMSLIB00005753666 https://gnps.ucsd.edu/ProteoSAFe/gnpslibraryspectrum.jsp?SpectrumID=CCMSLIB00005753666 C1(=C(N=C(C(=N1)Cl)N)N)C(=O)N=C(N)N\n",
      "\t CCMSLIB00005769974 https://gnps.ucsd.edu/ProteoSAFe/gnpslibraryspectrum.jsp?SpectrumID=CCMSLIB00005769974 C=CC1CNC(=S)O1\n",
      "\t CCMSLIB00005775763 https://gnps.ucsd.edu/ProteoSAFe/gnpslibraryspectrum.jsp?SpectrumID=CCMSLIB00005775763 CCCCOCCOCCOCC1=CC2=C(OCO2)C=C1CCC\n",
      "\t CCMSLIB00005763173 https://gnps.ucsd.edu/ProteoSAFe/gnpslibraryspectrum.jsp?SpectrumID=CCMSLIB00005763173 CCCCCC1=CC=C(N)C=C1\n",
      "\t CCMSLIB00005758302 https://gnps.ucsd.edu/ProteoSAFe/gnpslibraryspectrum.jsp?SpectrumID=CCMSLIB00005758302 C1C2CC3CC1CC(C2)(C3)N\n"
     ]
    }
   ],
   "source": [
    "with open(\"./pathways_metadata/npclassifier/pathways/path_to_cmm_samples.json\", \"r\") as f:\n",
    "    obj = json.load(f)\n",
    "\n",
    "new_obj = defaultdict(list)\n",
    "\n",
    "for k,v in obj.items():\n",
    "    print(k)\n",
    "    for cmm in v:\n",
    "        print(\"\\t\",cmm,id_to_url[cmm], id_to_smiles[cmm])\n",
    "        new_obj[k].append((id_to_url[cmm], id_to_smiles[cmm]))\n",
    "with open(\"./chemical_samples/out.json\", \"w\") as f:\n",
    "    obj2 = {\"desc\": \"03/2/22, chemical samples for Chen\", \"data\": new_obj, \"stringify\": json.dumps(new_obj)}\n",
    "    json.dump(obj2, f)\n"
   ]
  }
 ],
 "metadata": {
  "interpreter": {
   "hash": "00eb4842bf1b72b71abf62257ce3e38328ef92c154c737ec21cf3c1f5526806a"
  },
  "kernelspec": {
   "display_name": "Python 3.7.11 ('smart')",
   "language": "python",
   "name": "python3"
  },
  "language_info": {
   "codemirror_mode": {
    "name": "ipython",
    "version": 3
   },
   "file_extension": ".py",
   "mimetype": "text/x-python",
   "name": "python",
   "nbconvert_exporter": "python",
   "pygments_lexer": "ipython3",
   "version": "3.7.11"
  },
  "orig_nbformat": 4
 },
 "nbformat": 4,
 "nbformat_minor": 2
}
