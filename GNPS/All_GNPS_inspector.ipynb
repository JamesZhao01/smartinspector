{
 "cells": [
  {
   "cell_type": "code",
   "execution_count": 1,
   "metadata": {},
   "outputs": [],
   "source": [
    "import json, os, numpy as np, tqdm, requests\n",
    "from collections import defaultdict\n",
    "from rdkit import Chem"
   ]
  },
  {
   "cell_type": "markdown",
   "metadata": {},
   "source": [
    "### Trim all samples with no MS"
   ]
  },
  {
   "cell_type": "code",
   "execution_count": 2,
   "metadata": {},
   "outputs": [
    {
     "name": "stderr",
     "output_type": "stream",
     "text": [
      "100%|██████████| 210569/210569 [00:00<00:00, 847365.48it/s]"
     ]
    },
    {
     "name": "stdout",
     "output_type": "stream",
     "text": [
      "Data Len:  210569\n",
      "Data Len after:  209654\n"
     ]
    },
    {
     "name": "stderr",
     "output_type": "stream",
     "text": [
      "\n"
     ]
    }
   ],
   "source": [
    "with open(\"ALL_GNPS.json\") as f:\n",
    "    all_gnps = json.load(f)\n",
    "del_list = []\n",
    "for i in tqdm.tqdm(range(len(all_gnps))):\n",
    "    if all_gnps[i][\"peaks_json\"] == \"[]\":\n",
    "        del_list.append(i)\n",
    "print(\"Data Len: \", len(all_gnps))\n",
    "for i in reversed(del_list):\n",
    "    del all_gnps[i]\n",
    "print(\"Data Len after: \", len(all_gnps))\n"
   ]
  },
  {
   "cell_type": "markdown",
   "metadata": {},
   "source": [
    "### Loading train/test data"
   ]
  },
  {
   "cell_type": "code",
   "execution_count": 1,
   "metadata": {},
   "outputs": [
    {
     "ename": "FileNotFoundError",
     "evalue": "[WinError 3] The system cannot find the path specified: './smart_data/train'",
     "output_type": "error",
     "traceback": [
      "\u001b[1;31m---------------------------------------------------------------------------\u001b[0m",
      "\u001b[1;31mFileNotFoundError\u001b[0m                         Traceback (most recent call last)",
      "\u001b[1;32m~\\AppData\\Local\\Temp/ipykernel_21444/3908447308.py\u001b[0m in \u001b[0;36m<module>\u001b[1;34m\u001b[0m\n\u001b[0;32m      7\u001b[0m \u001b[0mdone\u001b[0m \u001b[1;33m=\u001b[0m \u001b[1;32mFalse\u001b[0m\u001b[1;33m\u001b[0m\u001b[1;33m\u001b[0m\u001b[0m\n\u001b[0;32m      8\u001b[0m \u001b[1;33m\u001b[0m\u001b[0m\n\u001b[1;32m----> 9\u001b[1;33m \u001b[1;32mfor\u001b[0m \u001b[0msubdir\u001b[0m \u001b[1;32min\u001b[0m \u001b[0mos\u001b[0m\u001b[1;33m.\u001b[0m\u001b[0mlistdir\u001b[0m\u001b[1;33m(\u001b[0m\u001b[0mpath\u001b[0m\u001b[1;33m)\u001b[0m\u001b[1;33m:\u001b[0m\u001b[1;33m\u001b[0m\u001b[1;33m\u001b[0m\u001b[0m\n\u001b[0m\u001b[0;32m     10\u001b[0m     \u001b[1;32mif\u001b[0m \u001b[1;34m\".\"\u001b[0m \u001b[1;32mnot\u001b[0m \u001b[1;32min\u001b[0m \u001b[0msubdir\u001b[0m\u001b[1;33m:\u001b[0m\u001b[1;33m\u001b[0m\u001b[1;33m\u001b[0m\u001b[0m\n\u001b[0;32m     11\u001b[0m         \u001b[0mdata\u001b[0m\u001b[1;33m[\u001b[0m\u001b[0msubdir\u001b[0m\u001b[1;33m]\u001b[0m \u001b[1;33m=\u001b[0m \u001b[1;33m[\u001b[0m\u001b[1;33m]\u001b[0m\u001b[1;33m\u001b[0m\u001b[1;33m\u001b[0m\u001b[0m\n",
      "\u001b[1;31mFileNotFoundError\u001b[0m: [WinError 3] The system cannot find the path specified: './smart_data/train'"
     ]
    }
   ],
   "source": [
    "data = {}\n",
    "data[\"id\"] = []\n",
    "bad = [\".DS_Store\", \".ipynb_checkpoints\"]\n",
    "path = \"./smart_data/train\"\n",
    "path2 = \"./smart_data/train_aggregate\"\n",
    "\n",
    "done = False\n",
    "\n",
    "for subdir in os.listdir(path):\n",
    "    if \".\" not in subdir:\n",
    "        data[subdir] = []\n",
    "        subdirpath = os.path.join(path, subdir)\n",
    "        for f in tqdm.tqdm(os.listdir(subdirpath)):\n",
    "            if f not in bad:\n",
    "                data[subdir].append(np.load(os.path.join(subdirpath, f)))\n",
    "            if not done:\n",
    "                data[\"id\"].append(np.array(f))\n",
    "        print(subdir)\n",
    "        done = True"
   ]
  },
  {
   "cell_type": "code",
   "execution_count": 3,
   "metadata": {},
   "outputs": [
    {
     "data": {
      "text/plain": [
       "{'spectrum_id': 'CCMSLIB00000001547',\n",
       " 'source_file': '130618_Ger_Jenia_WT-3-Des-MCLR_MH981.4-qb.1.1..mgf',\n",
       " 'task': '47daa4396adb426eaa5fa54b6ce7dd5f',\n",
       " 'scan': '1',\n",
       " 'ms_level': '2',\n",
       " 'library_membership': 'GNPS-LIBRARY',\n",
       " 'spectrum_status': '1',\n",
       " 'peaks_json': '[[289.286377,8068.000000],[295.545288,22507.000000],[298.489624,3925.000000],[317.324951,18742.000000],[319.655945,8604.000000],[324.482422,8041.000000],[325.316284,9738.000000],[339.789429,16145.000000],[343.947021,18094.000000],[347.020508,13981.000000],[347.913391,6765.000000],[361.147705,11763.000000],[361.844360,24296.000000],[364.232727,2346.000000],[364.858154,10782.000000],[365.845886,10242.000000],[368.221680,12761.000000],[368.965698,19147.000000],[375.069519,15644.000000],[375.751953,25393.000000],[382.750549,12765.000000],[384.197083,17912.000000],[390.574219,7993.000000],[394.049194,16135.000000],[397.106262,13986.000000],[404.420715,12326.000000],[411.092712,2348.000000],[413.784546,8715.000000],[427.667358,68137.000000],[436.192749,14879.000000],[443.266113,44427.000000],[446.267273,23472.000000],[447.747498,29292.000000],[455.250000,70939.000000],[456.107544,105392.000000],[456.822144,3.000000],[457.543213,12862.000000],[464.285461,8617.000000],[469.872314,87594.000000],[471.062195,31482.000000],[475.257324,15449.000000],[476.143616,23143.000000],[476.975159,28430.000000],[478.891113,27890.000000],[479.975952,33235.000000],[483.242432,13564.000000],[487.210388,32885.000000],[488.160156,20786.000000],[491.191956,55073.000000],[494.279602,7435.000000],[495.653992,32208.000000],[498.412964,11684.000000],[503.028198,30643.000000],[503.699951,2.000000],[504.344543,36421.000000],[505.154541,9667.000000],[510.176514,38891.000000],[512.168701,10175.000000],[513.265381,16524.000000],[514.957397,11384.000000],[515.922852,78764.000000],[520.973389,28857.000000],[521.823730,5810.000000],[523.168945,58926.000000],[529.036865,20722.000000],[530.991211,31845.000000],[532.376709,3005.000000],[534.575195,12906.000000],[538.003174,220949.000000],[539.217773,272296.000000],[540.672852,43876.000000],[548.061401,13655.000000],[554.117432,76225.000000],[556.030396,214421.000000],[557.288818,52970.000000],[557.996094,6202.000000],[559.942261,18112.000000],[561.328735,14656.000000],[564.123047,25971.000000],[564.948730,34630.000000],[566.439941,35564.000000],[571.333740,61305.000000],[572.047363,17235.000000],[575.219238,42127.000000],[575.888916,6.000000],[577.102905,29550.000000],[579.645874,7151.000000],[580.942627,17609.000000],[582.110107,102075.000000],[583.458984,10113.000000],[585.237061,36774.000000],[598.172485,26085.000000],[599.352783,764523.000000],[600.382812,114267.000000],[601.066650,4.000000],[602.267578,27144.000000],[609.302002,10247.000000],[613.415771,8621.000000],[622.208984,23787.000000],[623.023193,63940.000000],[623.991455,19154.000000],[625.216187,23050.000000],[638.299561,12481.000000],[640.265625,17392.000000],[641.235107,65873.000000],[646.095947,8409.000000],[649.277100,5446.000000],[651.526611,17521.000000],[657.128906,12911.000000],[658.094971,14824.000000],[659.420898,41969.000000],[663.387695,18284.000000],[668.332520,65700.000000],[669.357178,5671.000000],[680.219727,44374.000000],[681.987793,24446.000000],[685.957764,19166.000000],[691.648682,29177.000000],[693.225830,33545.000000],[694.307861,22539.000000],[696.332397,121211.000000],[697.127808,9503.000000],[709.464478,20171.000000],[710.795410,22346.000000],[711.744873,32675.000000],[714.071777,50487.000000],[715.578979,54567.000000],[716.216553,8.000000],[723.267822,14415.000000],[724.081909,88510.000000],[725.488892,8470.000000],[728.352051,21518.000000],[735.806396,52022.000000],[738.346680,2697.000000],[744.365234,16205.000000],[747.456055,19268.000000],[753.271240,14114.000000],[761.609131,12373.000000],[764.462158,19876.000000],[765.280029,18361.000000],[769.275635,41999.000000],[770.328613,16548.000000],[771.386353,13776.000000],[787.432617,33003.000000],[796.139526,9637.000000],[797.232788,11322.000000],[806.556885,18639.000000],[808.442383,6355.000000],[811.637329,14687.000000],[812.300049,9904.000000],[813.149292,15959.000000],[817.219238,7640.000000],[820.274048,6246.000000],[821.288208,15591.000000],[823.361328,13693.000000],[824.618286,6895.000000],[828.517456,32132.000000],[830.409302,102583.000000],[831.306763,65294.000000],[832.105469,9727.000000],[833.184570,4115.000000],[835.212891,7606.000000],[836.078247,8740.000000],[838.518677,26160.000000],[839.455811,72006.000000],[845.612915,21577.000000],[847.433594,196462.000000],[848.125854,39637.000000],[851.380859,246170.000000],[852.370605,276882.000000],[853.270508,44216.000000],[865.597900,44697.000000],[866.295654,111012.000000],[867.190430,4120.000000],[868.372192,78023.000000],[869.331177,8584.000000],[871.557007,5374.000000],[877.137451,30131.000000],[880.216553,5692.000000],[883.442261,49241.000000],[884.216553,8.000000],[888.167114,41037.000000],[889.282959,24795.000000],[892.127808,14925.000000],[893.467896,23506.000000],[895.607422,13123.000000],[899.010132,28633.000000],[901.351196,13472.000000],[902.325562,3774.000000],[909.424438,244136.000000],[910.515381,43770.000000],[911.526367,15208.000000],[914.308960,6532.000000],[915.217773,28455.000000],[918.666138,5610.000000],[919.396240,85829.000000],[920.066650,3.000000],[921.123901,16163.000000],[922.205688,37863.000000],[925.063721,43395.000000],[931.132812,61732.000000],[932.351929,136657.000000],[933.524048,25202.000000],[935.493286,33896.000000],[936.552002,103130.000000],[937.588623,67605.000000],[938.471069,35379.000000],[939.617920,77289.000000],[946.257812,38584.000000],[949.370239,85420.000000],[950.284546,5976.000000],[951.551758,29995.000000],[953.396606,545281.000000],[954.491577,123937.000000],[963.686768,261578.000000],[964.524658,318164.000000],[965.192139,124405.000000],[982.221924,27147.000000]]',\n",
       " 'splash': 'splash10-0w2a-0001282259-0001282259',\n",
       " 'submit_user': 'mwang87',\n",
       " 'Compound_Name': '3-Des-Microcystein_LR',\n",
       " 'Ion_Source': 'LC-ESI',\n",
       " 'Compound_Source': 'Isolated',\n",
       " 'Instrument': 'qTof',\n",
       " 'PI': 'Gerwick',\n",
       " 'Data_Collector': 'Jenia',\n",
       " 'Adduct': 'M+H',\n",
       " 'Scan': '-1',\n",
       " 'Precursor_MZ': '981.54',\n",
       " 'ExactMass': '0.0',\n",
       " 'Charge': '0',\n",
       " 'CAS_Number': 'N/A',\n",
       " 'Pubmed_ID': 'N/A',\n",
       " 'Smiles': 'CC(C)CC1NC(=O)C(C)NC(=O)C(=C)N(C)C(=O)CCC(NC(=O)C(C)C(NC(=O)C(CCCNC(N)=N)NC(=O)C(C)C(NC1=O)C(O)=O)\\\\C=C\\\\C(\\\\C)=C\\\\C(C)C(O)Cc1ccccc1)C(O)=O',\n",
       " 'INCHI': 'N/A',\n",
       " 'INCHI_AUX': 'N/A',\n",
       " 'Library_Class': '1',\n",
       " 'SpectrumID': 'CCMSLIB00000001547',\n",
       " 'Ion_Mode': 'Positive',\n",
       " 'create_time': '2019-10-30 21:18:25.0',\n",
       " 'task_id': 'aa87bf9cd0784df9956753f435c32434',\n",
       " 'user_id': 'null',\n",
       " 'InChIKey_smiles': 'IYDKWWDUBYWQGF-NNAZGLEUSA-N',\n",
       " 'InChIKey_inchi': '',\n",
       " 'Formula_smiles': 'C48H72N10O12',\n",
       " 'Formula_inchi': '',\n",
       " 'url': 'https://gnps.ucsd.edu/ProteoSAFe/gnpslibraryspectrum.jsp?SpectrumID=CCMSLIB00000001547',\n",
       " 'annotation_history': [{'Compound_Name': '3-Des-Microcystein_LR',\n",
       "   'Ion_Source': 'LC-ESI',\n",
       "   'Compound_Source': 'Isolated',\n",
       "   'Instrument': 'Ger',\n",
       "   'PI': 'Gerwick',\n",
       "   'Data_Collector': 'Jenia',\n",
       "   'Adduct': 'M+H',\n",
       "   'Scan': '-1',\n",
       "   'Precursor_MZ': '981.4',\n",
       "   'ExactMass': '0.0',\n",
       "   'Charge': '0',\n",
       "   'CAS_Number': 'N/A',\n",
       "   'Pubmed_ID': 'N/A',\n",
       "   'Smiles': 'N/A',\n",
       "   'INCHI': 'N/A',\n",
       "   'INCHI_AUX': 'N/A',\n",
       "   'Library_Class': '1',\n",
       "   'SpectrumID': 'CCMSLIB00000001547',\n",
       "   'Ion_Mode': 'Positive',\n",
       "   'create_time': '2014-02-04 17:56:43.0',\n",
       "   'task_id': '47daa4396adb426eaa5fa54b6ce7dd5f',\n",
       "   'user_id': 'mwang87'},\n",
       "  {'Compound_Name': '3-Des-Microcystein_LR',\n",
       "   'Ion_Source': 'LC-ESI',\n",
       "   'Compound_Source': 'Isolated',\n",
       "   'Instrument': 'qTof',\n",
       "   'PI': 'Gerwick',\n",
       "   'Data_Collector': 'Jenia',\n",
       "   'Adduct': 'M+H',\n",
       "   'Scan': '-1',\n",
       "   'Precursor_MZ': '981.54',\n",
       "   'ExactMass': '0.0',\n",
       "   'Charge': '0',\n",
       "   'CAS_Number': 'N/A',\n",
       "   'Pubmed_ID': 'N/A',\n",
       "   'Smiles': 'CC(C)CC1NC(=O)C(C)NC(=O)C(=C)N(C)C(=O)CCC(NC(=O)C(C)C(NC(=O)C(CCCNC(N)=N)NC(=O)C(C)C(NC1=O)C(O)=O)\\\\C=C\\\\C(\\\\C)=C\\\\C(C)C(O)Cc1ccccc1)C(O)=O',\n",
       "   'INCHI': 'N/A',\n",
       "   'INCHI_AUX': 'N/A',\n",
       "   'Library_Class': '1',\n",
       "   'SpectrumID': 'CCMSLIB00000001547',\n",
       "   'Ion_Mode': 'Positive',\n",
       "   'create_time': '2019-10-30 21:18:25.0',\n",
       "   'task_id': 'aa87bf9cd0784df9956753f435c32434',\n",
       "   'user_id': 'lfnothias'}]}"
      ]
     },
     "execution_count": 3,
     "metadata": {},
     "output_type": "execute_result"
    }
   ],
   "source": [
    "all_gnps[0]"
   ]
  },
  {
   "cell_type": "code",
   "execution_count": null,
   "metadata": {},
   "outputs": [],
   "source": [
    "list(data.keys())\n",
    "stacked = {}\n",
    "\n",
    "for key in data:\n",
    "    print(key, type(data[key][0]), data[key][0].shape if type(data[key][0]) == np.ndarray else \"\")\n",
    "\n",
    "for key in data:\n",
    "    first = list(data[key][0].shape)\n",
    "    stacked[key] = np.stack(data[key])\n",
    "\n",
    "for k, v in stacked.items():\n",
    "    np.save(os.path.join(path2, k + \".npy\"),  v)\n",
    "\n",
    "\n",
    "    \n"
   ]
  },
  {
   "cell_type": "markdown",
   "metadata": {},
   "source": [
    "# GNPS Data Stats"
   ]
  },
  {
   "cell_type": "code",
   "execution_count": null,
   "metadata": {},
   "outputs": [
    {
     "data": {
      "text/plain": [
       "array(['CCMSLIB00000001547', 'CCMSLIB00000001548', 'CCMSLIB00000001549',\n",
       "       ..., 'CCMSLIB00005724257', 'CCMSLIB00005724258',\n",
       "       'CCMSLIB00005724259'], dtype='<U18')"
      ]
     },
     "execution_count": 4,
     "metadata": {},
     "output_type": "execute_result"
    }
   ],
   "source": [
    "np.load(\"./smart_data/singular_specs/meta/ids.npy\")"
   ]
  },
  {
   "cell_type": "code",
   "execution_count": 3,
   "metadata": {},
   "outputs": [
    {
     "name": "stdout",
     "output_type": "stream",
     "text": [
      "209654\n"
     ]
    },
    {
     "data": {
      "text/plain": [
       "[{'spectrum_id': 'CCMSLIB00000001547',\n",
       "  'source_file': '130618_Ger_Jenia_WT-3-Des-MCLR_MH981.4-qb.1.1..mgf',\n",
       "  'task': '47daa4396adb426eaa5fa54b6ce7dd5f',\n",
       "  'scan': '1',\n",
       "  'ms_level': '2',\n",
       "  'library_membership': 'GNPS-LIBRARY',\n",
       "  'spectrum_status': '1',\n",
       "  'peaks_json': '[[289.286377,8068.000000],[295.545288,22507.000000],[298.489624,3925.000000],[317.324951,18742.000000],[319.655945,8604.000000],[324.482422,8041.000000],[325.316284,9738.000000],[339.789429,16145.000000],[343.947021,18094.000000],[347.020508,13981.000000],[347.913391,6765.000000],[361.147705,11763.000000],[361.844360,24296.000000],[364.232727,2346.000000],[364.858154,10782.000000],[365.845886,10242.000000],[368.221680,12761.000000],[368.965698,19147.000000],[375.069519,15644.000000],[375.751953,25393.000000],[382.750549,12765.000000],[384.197083,17912.000000],[390.574219,7993.000000],[394.049194,16135.000000],[397.106262,13986.000000],[404.420715,12326.000000],[411.092712,2348.000000],[413.784546,8715.000000],[427.667358,68137.000000],[436.192749,14879.000000],[443.266113,44427.000000],[446.267273,23472.000000],[447.747498,29292.000000],[455.250000,70939.000000],[456.107544,105392.000000],[456.822144,3.000000],[457.543213,12862.000000],[464.285461,8617.000000],[469.872314,87594.000000],[471.062195,31482.000000],[475.257324,15449.000000],[476.143616,23143.000000],[476.975159,28430.000000],[478.891113,27890.000000],[479.975952,33235.000000],[483.242432,13564.000000],[487.210388,32885.000000],[488.160156,20786.000000],[491.191956,55073.000000],[494.279602,7435.000000],[495.653992,32208.000000],[498.412964,11684.000000],[503.028198,30643.000000],[503.699951,2.000000],[504.344543,36421.000000],[505.154541,9667.000000],[510.176514,38891.000000],[512.168701,10175.000000],[513.265381,16524.000000],[514.957397,11384.000000],[515.922852,78764.000000],[520.973389,28857.000000],[521.823730,5810.000000],[523.168945,58926.000000],[529.036865,20722.000000],[530.991211,31845.000000],[532.376709,3005.000000],[534.575195,12906.000000],[538.003174,220949.000000],[539.217773,272296.000000],[540.672852,43876.000000],[548.061401,13655.000000],[554.117432,76225.000000],[556.030396,214421.000000],[557.288818,52970.000000],[557.996094,6202.000000],[559.942261,18112.000000],[561.328735,14656.000000],[564.123047,25971.000000],[564.948730,34630.000000],[566.439941,35564.000000],[571.333740,61305.000000],[572.047363,17235.000000],[575.219238,42127.000000],[575.888916,6.000000],[577.102905,29550.000000],[579.645874,7151.000000],[580.942627,17609.000000],[582.110107,102075.000000],[583.458984,10113.000000],[585.237061,36774.000000],[598.172485,26085.000000],[599.352783,764523.000000],[600.382812,114267.000000],[601.066650,4.000000],[602.267578,27144.000000],[609.302002,10247.000000],[613.415771,8621.000000],[622.208984,23787.000000],[623.023193,63940.000000],[623.991455,19154.000000],[625.216187,23050.000000],[638.299561,12481.000000],[640.265625,17392.000000],[641.235107,65873.000000],[646.095947,8409.000000],[649.277100,5446.000000],[651.526611,17521.000000],[657.128906,12911.000000],[658.094971,14824.000000],[659.420898,41969.000000],[663.387695,18284.000000],[668.332520,65700.000000],[669.357178,5671.000000],[680.219727,44374.000000],[681.987793,24446.000000],[685.957764,19166.000000],[691.648682,29177.000000],[693.225830,33545.000000],[694.307861,22539.000000],[696.332397,121211.000000],[697.127808,9503.000000],[709.464478,20171.000000],[710.795410,22346.000000],[711.744873,32675.000000],[714.071777,50487.000000],[715.578979,54567.000000],[716.216553,8.000000],[723.267822,14415.000000],[724.081909,88510.000000],[725.488892,8470.000000],[728.352051,21518.000000],[735.806396,52022.000000],[738.346680,2697.000000],[744.365234,16205.000000],[747.456055,19268.000000],[753.271240,14114.000000],[761.609131,12373.000000],[764.462158,19876.000000],[765.280029,18361.000000],[769.275635,41999.000000],[770.328613,16548.000000],[771.386353,13776.000000],[787.432617,33003.000000],[796.139526,9637.000000],[797.232788,11322.000000],[806.556885,18639.000000],[808.442383,6355.000000],[811.637329,14687.000000],[812.300049,9904.000000],[813.149292,15959.000000],[817.219238,7640.000000],[820.274048,6246.000000],[821.288208,15591.000000],[823.361328,13693.000000],[824.618286,6895.000000],[828.517456,32132.000000],[830.409302,102583.000000],[831.306763,65294.000000],[832.105469,9727.000000],[833.184570,4115.000000],[835.212891,7606.000000],[836.078247,8740.000000],[838.518677,26160.000000],[839.455811,72006.000000],[845.612915,21577.000000],[847.433594,196462.000000],[848.125854,39637.000000],[851.380859,246170.000000],[852.370605,276882.000000],[853.270508,44216.000000],[865.597900,44697.000000],[866.295654,111012.000000],[867.190430,4120.000000],[868.372192,78023.000000],[869.331177,8584.000000],[871.557007,5374.000000],[877.137451,30131.000000],[880.216553,5692.000000],[883.442261,49241.000000],[884.216553,8.000000],[888.167114,41037.000000],[889.282959,24795.000000],[892.127808,14925.000000],[893.467896,23506.000000],[895.607422,13123.000000],[899.010132,28633.000000],[901.351196,13472.000000],[902.325562,3774.000000],[909.424438,244136.000000],[910.515381,43770.000000],[911.526367,15208.000000],[914.308960,6532.000000],[915.217773,28455.000000],[918.666138,5610.000000],[919.396240,85829.000000],[920.066650,3.000000],[921.123901,16163.000000],[922.205688,37863.000000],[925.063721,43395.000000],[931.132812,61732.000000],[932.351929,136657.000000],[933.524048,25202.000000],[935.493286,33896.000000],[936.552002,103130.000000],[937.588623,67605.000000],[938.471069,35379.000000],[939.617920,77289.000000],[946.257812,38584.000000],[949.370239,85420.000000],[950.284546,5976.000000],[951.551758,29995.000000],[953.396606,545281.000000],[954.491577,123937.000000],[963.686768,261578.000000],[964.524658,318164.000000],[965.192139,124405.000000],[982.221924,27147.000000]]',\n",
       "  'splash': 'splash10-0w2a-0001282259-0001282259',\n",
       "  'submit_user': 'mwang87',\n",
       "  'Compound_Name': '3-Des-Microcystein_LR',\n",
       "  'Ion_Source': 'LC-ESI',\n",
       "  'Compound_Source': 'Isolated',\n",
       "  'Instrument': 'qTof',\n",
       "  'PI': 'Gerwick',\n",
       "  'Data_Collector': 'Jenia',\n",
       "  'Adduct': 'M+H',\n",
       "  'Scan': '-1',\n",
       "  'Precursor_MZ': '981.54',\n",
       "  'ExactMass': '0.0',\n",
       "  'Charge': '0',\n",
       "  'CAS_Number': 'N/A',\n",
       "  'Pubmed_ID': 'N/A',\n",
       "  'Smiles': 'CC(C)CC1NC(=O)C(C)NC(=O)C(=C)N(C)C(=O)CCC(NC(=O)C(C)C(NC(=O)C(CCCNC(N)=N)NC(=O)C(C)C(NC1=O)C(O)=O)\\\\C=C\\\\C(\\\\C)=C\\\\C(C)C(O)Cc1ccccc1)C(O)=O',\n",
       "  'INCHI': 'N/A',\n",
       "  'INCHI_AUX': 'N/A',\n",
       "  'Library_Class': '1',\n",
       "  'SpectrumID': 'CCMSLIB00000001547',\n",
       "  'Ion_Mode': 'Positive',\n",
       "  'create_time': '2019-10-30 21:18:25.0',\n",
       "  'task_id': 'aa87bf9cd0784df9956753f435c32434',\n",
       "  'user_id': 'null',\n",
       "  'InChIKey_smiles': 'IYDKWWDUBYWQGF-NNAZGLEUSA-N',\n",
       "  'InChIKey_inchi': '',\n",
       "  'Formula_smiles': 'C48H72N10O12',\n",
       "  'Formula_inchi': '',\n",
       "  'url': 'https://gnps.ucsd.edu/ProteoSAFe/gnpslibraryspectrum.jsp?SpectrumID=CCMSLIB00000001547',\n",
       "  'annotation_history': [{'Compound_Name': '3-Des-Microcystein_LR',\n",
       "    'Ion_Source': 'LC-ESI',\n",
       "    'Compound_Source': 'Isolated',\n",
       "    'Instrument': 'Ger',\n",
       "    'PI': 'Gerwick',\n",
       "    'Data_Collector': 'Jenia',\n",
       "    'Adduct': 'M+H',\n",
       "    'Scan': '-1',\n",
       "    'Precursor_MZ': '981.4',\n",
       "    'ExactMass': '0.0',\n",
       "    'Charge': '0',\n",
       "    'CAS_Number': 'N/A',\n",
       "    'Pubmed_ID': 'N/A',\n",
       "    'Smiles': 'N/A',\n",
       "    'INCHI': 'N/A',\n",
       "    'INCHI_AUX': 'N/A',\n",
       "    'Library_Class': '1',\n",
       "    'SpectrumID': 'CCMSLIB00000001547',\n",
       "    'Ion_Mode': 'Positive',\n",
       "    'create_time': '2014-02-04 17:56:43.0',\n",
       "    'task_id': '47daa4396adb426eaa5fa54b6ce7dd5f',\n",
       "    'user_id': 'mwang87'},\n",
       "   {'Compound_Name': '3-Des-Microcystein_LR',\n",
       "    'Ion_Source': 'LC-ESI',\n",
       "    'Compound_Source': 'Isolated',\n",
       "    'Instrument': 'qTof',\n",
       "    'PI': 'Gerwick',\n",
       "    'Data_Collector': 'Jenia',\n",
       "    'Adduct': 'M+H',\n",
       "    'Scan': '-1',\n",
       "    'Precursor_MZ': '981.54',\n",
       "    'ExactMass': '0.0',\n",
       "    'Charge': '0',\n",
       "    'CAS_Number': 'N/A',\n",
       "    'Pubmed_ID': 'N/A',\n",
       "    'Smiles': 'CC(C)CC1NC(=O)C(C)NC(=O)C(=C)N(C)C(=O)CCC(NC(=O)C(C)C(NC(=O)C(CCCNC(N)=N)NC(=O)C(C)C(NC1=O)C(O)=O)\\\\C=C\\\\C(\\\\C)=C\\\\C(C)C(O)Cc1ccccc1)C(O)=O',\n",
       "    'INCHI': 'N/A',\n",
       "    'INCHI_AUX': 'N/A',\n",
       "    'Library_Class': '1',\n",
       "    'SpectrumID': 'CCMSLIB00000001547',\n",
       "    'Ion_Mode': 'Positive',\n",
       "    'create_time': '2019-10-30 21:18:25.0',\n",
       "    'task_id': 'aa87bf9cd0784df9956753f435c32434',\n",
       "    'user_id': 'lfnothias'}]}]"
      ]
     },
     "execution_count": 3,
     "metadata": {},
     "output_type": "execute_result"
    }
   ],
   "source": [
    "print(len(all_gnps))\n",
    "[t for t in all_gnps if t[\"spectrum_id\"] == \"CCMSLIB00000001547\"]"
   ]
  },
  {
   "cell_type": "markdown",
   "metadata": {},
   "source": [
    "### Trim Keys"
   ]
  },
  {
   "cell_type": "code",
   "execution_count": 5,
   "metadata": {},
   "outputs": [
    {
     "name": "stdout",
     "output_type": "stream",
     "text": [
      "dict_keys(['spectrum_id', 'peaks_json', 'Compound_Name', 'Precursor_MZ', 'Charge', 'Smiles', 'SpectrumID', 'Formula_smiles', 'url'])\n"
     ]
    }
   ],
   "source": [
    "allowed = set([\"spectrum_id\", \"peaks_json\", \"Charge\", \"Smiles\", \"SpectrumID\", \"Formula_smiles\", \"url\", \"Precursor_MZ\", \"Compound_Name\"])\n",
    "for x in all_gnps:\n",
    "    to_delete = []\n",
    "    for key in x:\n",
    "        if key not in allowed: \n",
    "            to_delete.append(key)\n",
    "    for key in to_delete:\n",
    "        del x[key]\n",
    "print(all_gnps[0].keys())"
   ]
  },
  {
   "cell_type": "code",
   "execution_count": 6,
   "metadata": {},
   "outputs": [
    {
     "name": "stdout",
     "output_type": "stream",
     "text": [
      "# Unique ID's: 209654, Range: [1, 1]\n"
     ]
    }
   ],
   "source": [
    "ids = [x[\"spectrum_id\"] for x in all_gnps]\n",
    "id_dict = {}\n",
    "for mol_id in ids:\n",
    "    if mol_id not in id_dict:\n",
    "        id_dict[mol_id] = 0\n",
    "    id_dict[mol_id] += 1\n",
    "print(f\"# Unique ID's: {len(id_dict)}, Range: [{min(id_dict.values())}, {max(id_dict.values())}]\")\n"
   ]
  },
  {
   "cell_type": "markdown",
   "metadata": {},
   "source": [
    "### Count Smiles"
   ]
  },
  {
   "cell_type": "code",
   "execution_count": 7,
   "metadata": {},
   "outputs": [
    {
     "name": "stdout",
     "output_type": "stream",
     "text": [
      "# Unique Smiles: 22804, Range: [1, 86],  Mean: 4.351034906156815 Std: 6.175788905148607 Ct: 99221\n"
     ]
    }
   ],
   "source": [
    "# key = \"Compound_Name\"\n",
    "key = \"Smiles\"\n",
    "exclude = set([\"N/A\", \" \", \"\", \"NO DATA\", \"NA\", 'no data', \"n/a\", \"na\"])\n",
    "cns = [(x[\"Smiles\"], x[\"spectrum_id\"]) for x in all_gnps]\n",
    "cn_dict = defaultdict(list)\n",
    "for idx, (mol_cn, spec_id) in enumerate(cns):\n",
    "    mol_cn = mol_cn.strip()\n",
    "    if mol_cn in exclude:\n",
    "        continue\n",
    "    cn_dict[mol_cn].append(spec_id)\n",
    "cn_counts = [len(cn_dict[x]) for x in cn_dict]\n",
    "print(f\"# Unique Smiles: {len(cn_dict)}, Range: [{min(cn_counts)}, {max(cn_counts)}],  \\\n",
    "Mean: {sum(cn_counts) / len(cn_dict)} Std: {np.std(cn_counts)} Ct: {sum(cn_counts)}\")"
   ]
  },
  {
   "cell_type": "code",
   "execution_count": 4,
   "metadata": {},
   "outputs": [
    {
     "name": "stdout",
     "output_type": "stream",
     "text": [
      "CCO\n",
      "CCO\n"
     ]
    }
   ],
   "source": [
    "def process(sm):\n",
    "    mol = Chem.MolFromSmiles(sm)\n",
    "    smiles = Chem.MolToSmiles(mol, False) if mol is not None else None\n",
    "    return smiles\n",
    "v = [\"CCO\", \"OCC\"]\n",
    "print(process(v[0]))\n",
    "print(process(v[1]))"
   ]
  },
  {
   "cell_type": "code",
   "execution_count": 8,
   "metadata": {},
   "outputs": [
    {
     "name": "stderr",
     "output_type": "stream",
     "text": [
      "100%|██████████| 22804/22804 [00:07<00:00, 3019.40it/s]"
     ]
    },
    {
     "name": "stdout",
     "output_type": "stream",
     "text": [
      "Okay: 22669, Errors: 135, Uniques: 22669\n"
     ]
    },
    {
     "name": "stderr",
     "output_type": "stream",
     "text": [
      "\n"
     ]
    }
   ],
   "source": [
    "uniques = defaultdict(set)\n",
    "errors = set()\n",
    "okay = set()\n",
    "for sm in tqdm.tqdm(cn_dict):\n",
    "    mol = Chem.MolFromSmiles(sm)\n",
    "    smiles = Chem.MolToSmiles(mol, False) if mol is not None else None\n",
    "    if mol is not None:\n",
    "        uniques[mol].add(sm)\n",
    "        okay.add(sm)\n",
    "    else:\n",
    "        errors.add(sm)\n",
    "print(f\"Okay: {len(okay)}, Errors: {len(errors)}, Uniques: {len(uniques)}\")"
   ]
  },
  {
   "cell_type": "code",
   "execution_count": 9,
   "metadata": {},
   "outputs": [
    {
     "name": "stdout",
     "output_type": "stream",
     "text": [
      "CNCCc(c1)c(c2)c(ccc2)n1\n",
      "Cc1cc(c(c(c1)O)C=O)O\n"
     ]
    }
   ],
   "source": [
    "print(list(errors)[0])\n",
    "print(list(okay)[0])"
   ]
  },
  {
   "cell_type": "code",
   "execution_count": 10,
   "metadata": {},
   "outputs": [
    {
     "name": "stdout",
     "output_type": "stream",
     "text": [
      "[{'spectrum_id': 'CCMSLIB00000213664', 'peaks_json': '[[400.3569, 158070.0], [401.3601, 39467.0], [402.3635, 5462.0]]', 'Compound_Name': 'Massbank:FIO00045 Demissidine', 'Precursor_MZ': '400.358', 'Charge': '1', 'Smiles': 'C(C1)(C)CCC(C6C)N(C(C56)CC(C(C)54)C(C2)C(CC4)C(C)(C3)C(CC(O)C3)C2)4', 'SpectrumID': 'CCMSLIB00000213664', 'Formula_smiles': '', 'url': 'https://gnps.ucsd.edu/ProteoSAFe/gnpslibraryspectrum.jsp?SpectrumID=CCMSLIB00000213664'}, {'spectrum_id': 'CCMSLIB00000215146', 'peaks_json': '[[400.3569, 158070.0], [401.3601, 39467.0], [402.3635, 5462.0]]', 'Compound_Name': 'Massbank:FIO00045 Demissidine', 'Precursor_MZ': '400.358', 'Charge': '1', 'Smiles': 'C(C1)(C)CCC(C6C)N(C(C56)CC(C(C)54)C(C2)C(CC4)C(C)(C3)C(CC(O)C3)C2)4', 'SpectrumID': 'CCMSLIB00000215146', 'Formula_smiles': '', 'url': 'https://gnps.ucsd.edu/ProteoSAFe/gnpslibraryspectrum.jsp?SpectrumID=CCMSLIB00000215146'}]\n"
     ]
    }
   ],
   "source": [
    "# investigating single samples\n",
    "sample = [t for t in all_gnps if t[\"Smiles\"] == \"C(C1)(C)CCC(C6C)N(C(C56)CC(C(C)54)C(C2)C(CC4)C(C)(C3)C(CC(O)C3)C2)4\"]\n",
    "print(sample)"
   ]
  },
  {
   "cell_type": "code",
   "execution_count": 21,
   "metadata": {},
   "outputs": [
    {
     "name": "stderr",
     "output_type": "stream",
     "text": [
      "100%|██████████| 22669/22669 [00:00<00:00, 38295.22it/s]\n"
     ]
    }
   ],
   "source": [
    "from concurrent.futures import ThreadPoolExecutor, as_completed\n",
    "URL = \"https://npclassifier.ucsd.edu/classify\"\n",
    "smiles_to_data = {}\n",
    "def download(s):\n",
    "    try:\n",
    "        params = {\"smiles\": s}\n",
    "        r = requests.get(url = URL, params = params)\n",
    "        data = r.json()\n",
    "        return s, data\n",
    "    except: \n",
    "        return s, \"Error\"\n",
    "processes = []\n",
    "with ThreadPoolExecutor(max_workers=10) as executor:\n",
    "    for s in tqdm.tqdm(list(okay)):\n",
    "        processes.append(executor.submit(download, s))\n",
    "for task in as_completed(processes):\n",
    "    s, data = task.result()\n",
    "    smiles_to_data[s] = data\n",
    "\n"
   ]
  },
  {
   "cell_type": "code",
   "execution_count": 23,
   "metadata": {},
   "outputs": [
    {
     "name": "stdout",
     "output_type": "stream",
     "text": [
      "8\n"
     ]
    }
   ],
   "source": [
    "print(len([v for v in smiles_to_data.values() if v == \"Error\"]))"
   ]
  },
  {
   "cell_type": "code",
   "execution_count": 27,
   "metadata": {},
   "outputs": [],
   "source": [
    "dict2 = {}\n",
    "keys = [\"class_results\", \"superclass_results\", \"pathway_results\", \"isglycoside\"]\n",
    "for k, v in smiles_to_data.items():\n",
    "    if v is not \"Error\":\n",
    "        dict2[k] = {ke: v[ke] for ke in keys}\n",
    "    else:\n",
    "        dict2[k] = \"Error\""
   ]
  },
  {
   "cell_type": "code",
   "execution_count": 28,
   "metadata": {},
   "outputs": [],
   "source": [
    "with open(\"./data_out/np_classifier/data.json\", \"w\") as f:\n",
    "    json.dump(dict2, f)"
   ]
  },
  {
   "cell_type": "code",
   "execution_count": 28,
   "metadata": {},
   "outputs": [
    {
     "name": "stdout",
     "output_type": "stream",
     "text": [
      "[(1377, 'C1=CC(=C(C=C1C2=C(C(=O)C3=C(C=C(C=C3O2)O)O)OC4C(C(C(C(O4)CO)O)O)O)O)O', 86), (19007, 'CC1C(C(C(C(O1)OC2=CC(=C3C(=C2)OC(=C(C3=O)OC4C(C(C(C(O4)C)O)O)O)C5=CC=C(C=C5)O)O)O)O)O', 86), (20396, 'C1CCN2CC3CC(C2C1)CN4C3CCCC4=O', 85), (21885, 'c', 83), (2114, 'CC1C(C(C(C(O1)OC2=C(OC3=CC(=CC(=C3C2=O)O)O)C4=CC(=C(C=C4)O)O)O)O)O', 75), (20333, 'CC1=CC2=C(C(=C1CCO)C)C(=O)[C@](C2)(C)CO', 74), (16878, 'COC(=O)C1=COC(C)C2CN3CCC4(C3CC12)C(O)=NC1=CC=CC=C41', 72), (17004, 'COC(=O)C1C(O)CCC2CN3CCC4=C(NC5=CC=CC=C45)C3CC12', 71), (1373, 'C1C(C(OC2=CC(=CC(=C21)O)O)C3=CC(=C(C=C3)O)O)O', 67), (17434, 'C[C@H]1[C@H]2CC[C@H]3[C@@H]4CC=C5C[C@H](CC[C@]5(C)[C@H]4CC[C@]23CN1C)N(C)C', 67)]\n",
      "['c', 'NCCS(O)=O', 'CCCCCCN', 'COCCOCCOC', 'NCCCCN', 'C1CCNCC1', 'CN(C)C=O', 'NCCC(O)=O', 'CNCC(=O)O', 'NCC(O)=O', 'CNCC(O)=O', 'S=C1NCCN1', 'C(CO)NCCO', '[Cl-1]', 'CN=C(N)N', 'C(CN)CN', 'NCCCNCCCN', 'NCCCCCN', 'OCCNCCO', 'NCCCN', 'NCCO', 'CC(O)=O', 'OCCC(O)=O', 'C1CNCCN1', 'CCC(O)=O', 'Cn1ccnc1S', 'OCC(O)=O', 'CCCC(O)=O', 'CCN(C)N=O', 'CN(C)N=O', 'C(CCN)CN', 'C(CCN)CCN', 'NCCS', 'CN', 'NCCC#N', 'NCC(O)CO', 'CNC', 'CCN', 'NCCC(C)C', 'c(c1)ncn1', 'CCCCCCCCN', 'c(c1)cnn1', 'NC(=O)NN', 'OC(=O)CSC', 'CC(=O)C=O', 'NC(=O)NO', 'NC(N)=O', 'CC(CN)O', 'CCCC(=O)O', 'N1C=CN=C1', 'CCCC=CC=O', 'O=CC(O)=O', 'NC1CCCCC1', 'OS(=O)O', 'CC(C)O', 'CN(C)C', '[O-]C#N', 'CCCO', 'OCC(O)C=O', 'OC(=O)C=O', 'O=C1CCCN1', 'CCC=O', 'C=CCN=C=S', 'O=C1CCCO1', 'NC(=O)C=C', 'CC(O)CO', 'CC=O', 'CCCC=O', 'CCC(C)=O', 'NC(N)=N', '[O-]N=O', 'CC(C)=O', 'CNC(N)=N', 'CC(C)CC=O', 'OCC(O)CO', '[S-]C#N', 'NO', 'C1CCOC1', 'C=CC(O)=O', 'CCC(=O)C', 'C=CC(=O)O', 'N1C=CC=C1', 'S1C=CN=C1', 'CCCCN', 'C1COCCN1', 'CO', 'n1cccnc1', 'C(=S)(N)N', 'C#CC(O)=O', 'N1C=NC=N1', 'N1C=CN=N1', 'O1C=CN=C1', 'N1C=CC=N1']\n"
     ]
    }
   ],
   "source": [
    "idx_smi_ct = [(idx, key_item, len(idx_list)) for idx, (key_item, idx_list) in enumerate(cn_dict.items())]\n",
    "idx_smi_ct.sort(key = lambda x : (-x[2], x[0]))\n",
    "print(idx_smi_ct[:10])\n",
    "print([t[1] for t in idx_smi_ct if len(t[1]) < 10])\n"
   ]
  },
  {
   "cell_type": "code",
   "execution_count": 50,
   "metadata": {},
   "outputs": [
    {
     "name": "stderr",
     "output_type": "stream",
     "text": [
      "ipykernel_launcher:7: UserWarning: Matplotlib is currently using module://matplotlib_inline.backend_inline, which is a non-GUI backend, so cannot show the figure.\n"
     ]
    },
    {
     "data": {
      "image/png": "[encoded data removed]",
      "text/plain": [
       "<Figure size 432x288 with 1 Axes>"
      ]
     },
     "metadata": {
      "needs_background": "light"
     },
     "output_type": "display_data"
    }
   ],
   "source": [
    "import matplotlib.pyplot as plt\n",
    "\n",
    "fig = plt.figure()\n",
    "ax = fig.add_subplot(111)\n",
    "ax.hist(cn_counts, bins = 50)\n",
    "ax.set_title(\"Distribution of Counts of Duplicate Spectra per Molecule\")\n",
    "fig.show()\n",
    "\n"
   ]
  },
  {
   "cell_type": "markdown",
   "metadata": {},
   "source": [
    "# Filtering"
   ]
  },
  {
   "cell_type": "code",
   "execution_count": 51,
   "metadata": {},
   "outputs": [
    {
     "ename": "NameError",
     "evalue": "name 'data' is not defined",
     "output_type": "error",
     "traceback": [
      "\u001b[1;31m---------------------------------------------------------------------------\u001b[0m",
      "\u001b[1;31mNameError\u001b[0m                                 Traceback (most recent call last)",
      "\u001b[1;32m~\\AppData\\Local\\Temp/ipykernel_14604/171720393.py\u001b[0m in \u001b[0;36m<module>\u001b[1;34m\u001b[0m\n\u001b[0;32m      1\u001b[0m \u001b[1;31m# Checking all ID's\u001b[0m\u001b[1;33m\u001b[0m\u001b[1;33m\u001b[0m\u001b[1;33m\u001b[0m\u001b[0m\n\u001b[1;32m----> 2\u001b[1;33m \u001b[0mprint\u001b[0m\u001b[1;33m(\u001b[0m\u001b[1;34m\"# of samples\"\u001b[0m\u001b[1;33m,\u001b[0m \u001b[0mlen\u001b[0m\u001b[1;33m(\u001b[0m\u001b[0mdata\u001b[0m\u001b[1;33m[\u001b[0m\u001b[1;34m\"id\"\u001b[0m\u001b[1;33m]\u001b[0m\u001b[1;33m)\u001b[0m\u001b[1;33m)\u001b[0m\u001b[1;33m\u001b[0m\u001b[1;33m\u001b[0m\u001b[0m\n\u001b[0m\u001b[0;32m      3\u001b[0m \u001b[0mdata\u001b[0m\u001b[1;33m[\u001b[0m\u001b[1;34m\"crop_id\"\u001b[0m\u001b[1;33m]\u001b[0m \u001b[1;33m=\u001b[0m \u001b[1;33m[\u001b[0m\u001b[0mstr\u001b[0m\u001b[1;33m(\u001b[0m\u001b[0mx\u001b[0m\u001b[1;33m)\u001b[0m\u001b[1;33m[\u001b[0m\u001b[1;33m:\u001b[0m\u001b[1;33m-\u001b[0m\u001b[1;36m4\u001b[0m\u001b[1;33m]\u001b[0m \u001b[1;32mfor\u001b[0m \u001b[0mx\u001b[0m \u001b[1;32min\u001b[0m \u001b[0mdata\u001b[0m\u001b[1;33m[\u001b[0m\u001b[1;34m\"id\"\u001b[0m\u001b[1;33m]\u001b[0m\u001b[1;33m]\u001b[0m\u001b[1;33m\u001b[0m\u001b[1;33m\u001b[0m\u001b[0m\n\u001b[0;32m      4\u001b[0m \u001b[0mid_set\u001b[0m \u001b[1;33m=\u001b[0m \u001b[0mset\u001b[0m\u001b[1;33m(\u001b[0m\u001b[0mids\u001b[0m\u001b[1;33m)\u001b[0m\u001b[1;33m\u001b[0m\u001b[1;33m\u001b[0m\u001b[0m\n\u001b[0;32m      5\u001b[0m \u001b[0mprint\u001b[0m\u001b[1;33m(\u001b[0m\u001b[0mids\u001b[0m\u001b[1;33m[\u001b[0m\u001b[1;36m0\u001b[0m\u001b[1;33m]\u001b[0m\u001b[1;33m,\u001b[0m \u001b[0mdata\u001b[0m\u001b[1;33m[\u001b[0m\u001b[1;34m\"crop_id\"\u001b[0m\u001b[1;33m]\u001b[0m\u001b[1;33m[\u001b[0m\u001b[1;36m0\u001b[0m\u001b[1;33m]\u001b[0m\u001b[1;33m)\u001b[0m\u001b[1;33m\u001b[0m\u001b[1;33m\u001b[0m\u001b[0m\n",
      "\u001b[1;31mNameError\u001b[0m: name 'data' is not defined"
     ]
    }
   ],
   "source": [
    "# Checking all ID's\n",
    "print(\"# of samples\", len(data[\"id\"]))\n",
    "data[\"crop_id\"] = [str(x)[:-4] for x in data[\"id\"]]\n",
    "id_set = set(ids)\n",
    "print(ids[0], data[\"crop_id\"][0])\n",
    "included = [x for x in tqdm.tqdm(data[\"crop_id\"]) if x in id_set]\n",
    "print(f\"Fraction in all_gnps: {len(included)}/{len(data['id'])}\")\n",
    "\n"
   ]
  },
  {
   "cell_type": "code",
   "execution_count": 52,
   "metadata": {},
   "outputs": [
    {
     "name": "stderr",
     "output_type": "stream",
     "text": [
      "  1%|          | 2616/209654 [00:13<17:58, 191.93it/s]\n"
     ]
    },
    {
     "ename": "KeyboardInterrupt",
     "evalue": "",
     "output_type": "error",
     "traceback": [
      "\u001b[1;31m---------------------------------------------------------------------------\u001b[0m",
      "\u001b[1;31mKeyboardInterrupt\u001b[0m                         Traceback (most recent call last)",
      "\u001b[1;32m~\\AppData\\Local\\Temp/ipykernel_14604/405531041.py\u001b[0m in \u001b[0;36m<module>\u001b[1;34m\u001b[0m\n\u001b[0;32m      8\u001b[0m         \u001b[0mprint\u001b[0m\u001b[1;33m(\u001b[0m\u001b[1;34mf\"ZERO PEAK: {idx}\"\u001b[0m\u001b[1;33m)\u001b[0m\u001b[1;33m\u001b[0m\u001b[1;33m\u001b[0m\u001b[0m\n\u001b[0;32m      9\u001b[0m         \u001b[1;32mcontinue\u001b[0m\u001b[1;33m;\u001b[0m\u001b[1;33m\u001b[0m\u001b[1;33m\u001b[0m\u001b[0m\n\u001b[1;32m---> 10\u001b[1;33m     \u001b[0ma\u001b[0m\u001b[1;33m,\u001b[0m \u001b[0mb\u001b[0m \u001b[1;33m=\u001b[0m \u001b[0mzip\u001b[0m\u001b[1;33m(\u001b[0m\u001b[1;33m*\u001b[0m\u001b[0mpeak\u001b[0m\u001b[1;33m)\u001b[0m\u001b[1;33m\u001b[0m\u001b[1;33m\u001b[0m\u001b[0m\n\u001b[0m\u001b[0;32m     11\u001b[0m     \u001b[0mchemical_max\u001b[0m \u001b[1;33m=\u001b[0m \u001b[0mmax\u001b[0m\u001b[1;33m(\u001b[0m\u001b[0ma\u001b[0m\u001b[1;33m)\u001b[0m\u001b[1;33m\u001b[0m\u001b[1;33m\u001b[0m\u001b[0m\n\u001b[0;32m     12\u001b[0m     \u001b[0mstats\u001b[0m\u001b[1;33m.\u001b[0m\u001b[0mappend\u001b[0m\u001b[1;33m(\u001b[0m\u001b[0mlen\u001b[0m\u001b[1;33m(\u001b[0m\u001b[0ma\u001b[0m\u001b[1;33m)\u001b[0m\u001b[1;33m)\u001b[0m\u001b[1;33m\u001b[0m\u001b[1;33m\u001b[0m\u001b[0m\n",
      "\u001b[1;31mKeyboardInterrupt\u001b[0m: "
     ]
    }
   ],
   "source": [
    "# global stats\n",
    "global_max = 0;\n",
    "gmax_index = -1;\n",
    "stats = []\n",
    "for idx in tqdm.tqdm(range(len(all_gnps))):\n",
    "    peak = json.loads(all_gnps[idx][\"peaks_json\"])\n",
    "    if len(peak) == 0:\n",
    "        print(f\"ZERO PEAK: {idx}\")\n",
    "        continue;\n",
    "    a, b = zip(*peak)\n",
    "    chemical_max = max(a)\n",
    "    stats.append(len(a))\n",
    "    global_max = max(global_max, chemical_max)\n",
    "    if global_max == chemical_max:\n",
    "        gmax_index = idx\n",
    "print(f\"Global Max: [{global_max}]\")\n"
   ]
  },
  {
   "cell_type": "code",
   "execution_count": null,
   "metadata": {},
   "outputs": [],
   "source": [
    "fig = plt.figure()\n",
    "ax = fig.add_subplot(111)\n",
    "print(max(stats))\n",
    "ax.hist(stats, bins = 50)\n",
    "ax.set_title(\"Distribution of # peaks in MS\")\n",
    "fig.show()"
   ]
  },
  {
   "cell_type": "code",
   "execution_count": 53,
   "metadata": {},
   "outputs": [],
   "source": [
    "def bin_spectra(spectra):\n",
    "    res = [0 for i in range(4973)]\n",
    "    x, y = zip(*spectra)\n",
    "    for i in range(len(x)):\n",
    "        res[int(x[i] + 0.5)] += y[i]\n",
    "    max_value = max(res)\n",
    "    for i in range(len(res)):\n",
    "        res[i] /= max_value\n",
    "    return res\n",
    "    "
   ]
  },
  {
   "cell_type": "code",
   "execution_count": 15,
   "metadata": {},
   "outputs": [
    {
     "name": "stdout",
     "output_type": "stream",
     "text": [
      "4973\n",
      "[ 102  111  117  120  130  148  151  159  163  164  174  178  184  190\n",
      "  192  222  228  230  231  263  283  286  290  304  305  306  336  359\n",
      "  421  442  449  487  491  544  550  558  635  656  660  675  719  803\n",
      "  814  880  887  955  974 1011 1098 1112 1180 1281 1287 1303 1340 1367\n",
      " 1416 1438 1460 1479 1520 1534 1617 1676 1758 1765 1810 1819 1891 1896\n",
      " 1909 1948 1957 2049 2055 2196 2238 2282 2284 2312 2320 2361 2474 2530\n",
      " 2586 2629 2690 2709 2711 2783 2808 2815 2851 2975 3027 3147 3148 3193\n",
      " 3196]\n"
     ]
    }
   ],
   "source": [
    "max_spec = bin_spectra(json.loads(all_gnps[gmax_index][\"peaks_json\"]))\n",
    "print(len(max_spec))\n",
    "print(np.nonzero(max_spec)[0])"
   ]
  },
  {
   "cell_type": "code",
   "execution_count": null,
   "metadata": {},
   "outputs": [],
   "source": [
    "stats = []\n",
    "for idx in tqdm.tqdm(range(len(all_gnps))):\n",
    "    peak = bin_spectra(json.loads(all_gnps[idx][\"peaks_json\"]))\n",
    "    if len(peak) == 0:\n",
    "        print(f\"ZERO PEAK: {idx}\")\n",
    "        continue;\n",
    "    stats.append(len(np.nonzero(peak))[0])\n",
    "\n",
    "fig = plt.figure()\n",
    "ax = fig.add_subplot(111)\n",
    "ax.hist(stats, bins = 50)\n",
    "ax.set_title(\"Distribution of # peaks(binned) in MS\")\n",
    "fig.show()"
   ]
  },
  {
   "cell_type": "code",
   "execution_count": null,
   "metadata": {},
   "outputs": [],
   "source": [
    "raw_spec = json.loads(all_gnps[0][\"peaks_json\"])\n",
    "print(\"Raw_spec: \", all_gnps[0][\"spectrum_id\"])\n",
    "raw_spec_modified = bin_spectra(raw_spec)\n",
    "yiran_spec = data[\"mass_spec_scaled\"][0]\n",
    "yiran_spec = [(10 + x) / 20.0 for x in yiran_spec]\n",
    "print(\"Yiran_spec: \", data[\"id\"][0])\n",
    "print(f\"Min scaled: {min(yiran_spec)}, Max scaled: {max(yiran_spec)}\")\n",
    "# print(f\"Min raw: {min(y)}, Max raw: {max(y)}\")\n",
    "# print(f\"Min rawx: {min(x)}, Max rawx: {max(x)}\")\n",
    "pairs = []\n",
    "for idx, val in enumerate(yiran_spec):\n",
    "    if val != 0 and val != 20:\n",
    "        pairs.append([idx, val])\n",
    "pairs_raw = []\n",
    "for idx, val in enumerate(raw_spec_modified):\n",
    "    if val != 0:\n",
    "        pairs_raw.append([idx, val])\n",
    "print(\"len(pairs_raw)\", len(pairs_raw), \"len(pairs)\", len(pairs))\n",
    "# assert(len(pairs) == len(x))\n",
    "for i in range(max(len(pairs), len(pairs_raw))):\n",
    "    scal_x, scal_y = pairs_raw[i] if i < len(pairs_raw) else (-1, -1)\n",
    "    true_x, true_y = pairs[i] if i < len(pairs) else (-1, -1)\n",
    "\n",
    "    print(scal_x, true_x, scal_y, true_y, \"err: \", true_y / scal_y)\n",
    "print(len(raw_spec), len(yiran_spec))\n"
   ]
  },
  {
   "cell_type": "markdown",
   "metadata": {},
   "source": [
    "# Smile Positives"
   ]
  },
  {
   "cell_type": "code",
   "execution_count": 4,
   "metadata": {},
   "outputs": [],
   "source": [
    "del all_gnps"
   ]
  },
  {
   "cell_type": "code",
   "execution_count": 24,
   "metadata": {},
   "outputs": [
    {
     "name": "stdout",
     "output_type": "stream",
     "text": [
      "209654 [('CCMSLIB00000001547', 0), ('CCMSLIB00000001548', 1), ('CCMSLIB00000001549', 2), ('CCMSLIB00000001550', 3), ('CCMSLIB00000001551', 4)]\n"
     ]
    }
   ],
   "source": [
    "molid_to_idx = dict([(molid, idx) for idx, molid in enumerate(ids)])\n",
    "print(len(molid_to_idx), list(molid_to_idx.items())[:5])"
   ]
  },
  {
   "cell_type": "code",
   "execution_count": 29,
   "metadata": {},
   "outputs": [
    {
     "name": "stdout",
     "output_type": "stream",
     "text": [
      "99221\n"
     ]
    }
   ],
   "source": [
    "spectra_ids = []\n",
    "spectra_id_to_smiles = {}\n",
    "for key, value in cn_dict.items():\n",
    "    for item in value:\n",
    "        spectra_ids.append(molid_to_idx[item])\n",
    "        spectra_id_to_smiles[molid_to_idx[item]] = key\n",
    "print(len(spectra_ids))"
   ]
  },
  {
   "cell_type": "code",
   "execution_count": 30,
   "metadata": {},
   "outputs": [],
   "source": [
    "import sklearn.model_selection\n",
    "X, y = spectra_ids, [1] * len(spectra_ids)\n",
    "X_tr, X_va, y_tr, y_va = sklearn.model_selection.train_test_split(X, y, test_size = 0.1)"
   ]
  },
  {
   "cell_type": "code",
   "execution_count": 31,
   "metadata": {},
   "outputs": [],
   "source": [
    "from collections import defaultdict"
   ]
  },
  {
   "cell_type": "code",
   "execution_count": 32,
   "metadata": {},
   "outputs": [],
   "source": [
    "spectra_dict_tr = defaultdict(list)\n",
    "spectra_dict_va = defaultdict(list)\n",
    "for spectra in X_tr:\n",
    "    spectra_dict_tr[spectra_id_to_smiles[spectra]].append(spectra)\n",
    "for spectra in X_va:\n",
    "    spectra_dict_va[spectra_id_to_smiles[spectra]].append(spectra)"
   ]
  },
  {
   "cell_type": "code",
   "execution_count": 34,
   "metadata": {},
   "outputs": [
    {
     "name": "stdout",
     "output_type": "stream",
     "text": [
      "# Unique Smiles: 22780, Range: [0, 78],  Mean: 3.920017559262511 Std: 5.60413537260603 Ct: 89298\n",
      "# Unique Smiles: 22780, Range: [0, 14],  Mean: 0.4356014047410009 Std: 0.8792937359797539 Ct: 9923\n"
     ]
    }
   ],
   "source": [
    "cn_d = spectra_dict_tr\n",
    "cn_counts = [len(cn_d[x]) for x in cn_dict]\n",
    "print(f\"# Unique Smiles: {len(cn_d)}, Range: [{min(cn_counts)}, {max(cn_counts)}],  \\\n",
    "Mean: {sum(cn_counts) / len(cn_d)} Std: {np.std(cn_counts)} Ct: {sum(cn_counts)}\")\n",
    "\n",
    "cn_d = spectra_dict_va\n",
    "cn_counts = [len(cn_d[x]) for x in cn_dict]\n",
    "print(f\"# Unique Smiles: {len(cn_d)}, Range: [{min(cn_counts)}, {max(cn_counts)}],  \\\n",
    "Mean: {sum(cn_counts) / len(cn_d)} Std: {np.std(cn_counts)} Ct: {sum(cn_counts)}\")"
   ]
  },
  {
   "cell_type": "code",
   "execution_count": 35,
   "metadata": {},
   "outputs": [
    {
     "data": {
      "text/plain": [
       "[('COC1=C2CC(OC2=C(C(O)=O)C(=C1)CCC3=CC=CC=C3)C(C)(C)O',\n",
       "  [17829, 17831, 17830, 22308, 22309]),\n",
       " ('CNCCC(C1=CC=CC=C1)C2=CC=CC=N2',\n",
       "  [100887,\n",
       "   141478,\n",
       "   103994,\n",
       "   142844,\n",
       "   103244,\n",
       "   105899,\n",
       "   101289,\n",
       "   145787,\n",
       "   101077,\n",
       "   101052,\n",
       "   101184,\n",
       "   142988]),\n",
       " ('CCOC(=O)OC1=C(OC)C=C(C=C1OC)C(=O)OC1CC2CN3CCC4=C(NC5=CC(OC)=CC=C45)C3CC2C(C1OC)C(=O)OC',\n",
       "  [109640, 111653]),\n",
       " ('COC1=CC(CC=C)=CC(OC)=C1OC(C)C(O)C2=CC(OC)=C(OC)C(OC)=C2',\n",
       "  [21020, 21019, 19144, 19143, 21018, 13965, 13964]),\n",
       " ('CC1CC2=CC(O)=C(O)C=C2C(C1C)C3=CC=C(O)C(O)=C3', [13415, 21190])]"
      ]
     },
     "execution_count": 35,
     "metadata": {},
     "output_type": "execute_result"
    }
   ],
   "source": [
    "list(spectra_dict_tr.items())[:5]"
   ]
  },
  {
   "cell_type": "code",
   "execution_count": 36,
   "metadata": {},
   "outputs": [],
   "source": [
    "\n",
    "with open(os.path.join(\"./smart_data/siamese_meta\", 'spectra_map_smiles_tr.json'), 'w+') as f:\n",
    "    json.dump(spectra_dict_tr, f)\n",
    "\n",
    "with open(os.path.join(\"./smart_data/siamese_meta\", 'spectra_map_smiles_va.json'), 'w+') as f:\n",
    "    json.dump(spectra_dict_va, f)"
   ]
  },
  {
   "cell_type": "markdown",
   "metadata": {},
   "source": [
    "# Saving the actual spectra"
   ]
  },
  {
   "cell_type": "code",
   "execution_count": null,
   "metadata": {},
   "outputs": [],
   "source": [
    "ids = np.stack([np.array(all_gnps[i][\"spectrum_id\"]) for i in tqdm.tqdm(range(len(all_gnps)) )])\n",
    "spectra = np.stack([np.array( bin_spectra(json.loads(all_gnps[i][\"peaks_json\"])) )for i in tqdm.tqdm(range(len(all_gnps)))])"
   ]
  },
  {
   "cell_type": "code",
   "execution_count": 19,
   "metadata": {},
   "outputs": [
    {
     "ename": "NameError",
     "evalue": "name 'spectra' is not defined",
     "output_type": "error",
     "traceback": [
      "\u001b[1;31m---------------------------------------------------------------------------\u001b[0m",
      "\u001b[1;31mNameError\u001b[0m                                 Traceback (most recent call last)",
      "\u001b[1;32m~\\AppData\\Local\\Temp/ipykernel_6476/808920298.py\u001b[0m in \u001b[0;36m<module>\u001b[1;34m\u001b[0m\n\u001b[0;32m      2\u001b[0m \u001b[0mpath\u001b[0m \u001b[1;33m=\u001b[0m \u001b[1;34m\"./smart_data/all_specs\"\u001b[0m\u001b[1;33m\u001b[0m\u001b[1;33m\u001b[0m\u001b[0m\n\u001b[0;32m      3\u001b[0m \u001b[0mnp\u001b[0m\u001b[1;33m.\u001b[0m\u001b[0msave\u001b[0m\u001b[1;33m(\u001b[0m\u001b[0mos\u001b[0m\u001b[1;33m.\u001b[0m\u001b[0mpath\u001b[0m\u001b[1;33m.\u001b[0m\u001b[0mjoin\u001b[0m\u001b[1;33m(\u001b[0m\u001b[0mpath\u001b[0m\u001b[1;33m,\u001b[0m \u001b[1;34m\"ids\"\u001b[0m\u001b[1;33m)\u001b[0m\u001b[1;33m,\u001b[0m \u001b[0mids\u001b[0m\u001b[1;33m)\u001b[0m\u001b[1;33m\u001b[0m\u001b[1;33m\u001b[0m\u001b[0m\n\u001b[1;32m----> 4\u001b[1;33m \u001b[0mnp\u001b[0m\u001b[1;33m.\u001b[0m\u001b[0msave\u001b[0m\u001b[1;33m(\u001b[0m\u001b[0mos\u001b[0m\u001b[1;33m.\u001b[0m\u001b[0mpath\u001b[0m\u001b[1;33m.\u001b[0m\u001b[0mjoin\u001b[0m\u001b[1;33m(\u001b[0m\u001b[0mpath\u001b[0m\u001b[1;33m,\u001b[0m \u001b[1;34m\"spectra\"\u001b[0m\u001b[1;33m)\u001b[0m\u001b[1;33m,\u001b[0m \u001b[0mspectra\u001b[0m\u001b[1;33m)\u001b[0m\u001b[1;33m\u001b[0m\u001b[1;33m\u001b[0m\u001b[0m\n\u001b[0m",
      "\u001b[1;31mNameError\u001b[0m: name 'spectra' is not defined"
     ]
    }
   ],
   "source": [
    "# saving the data\n",
    "path = \"./smart_data/all_specs\"\n",
    "np.save(os.path.join(path, \"ids\"), ids)\n",
    "np.save(os.path.join(path, \"spectra\"), spectra)\n"
   ]
  },
  {
   "cell_type": "code",
   "execution_count": 59,
   "metadata": {},
   "outputs": [
    {
     "name": "stderr",
     "output_type": "stream",
     "text": [
      "100%|██████████| 209654/209654 [00:00<00:00, 972869.71it/s]\n"
     ]
    }
   ],
   "source": [
    "# for singular spec saving\n",
    "path = \"./smart_data/singular_specs\"\n",
    "ids = np.stack([np.array(all_gnps[i][\"spectrum_id\"]) for i in tqdm.tqdm(range(len(all_gnps)) )])\n",
    "np.save(os.path.join(path, \"ids\"), ids)"
   ]
  },
  {
   "cell_type": "code",
   "execution_count": 62,
   "metadata": {},
   "outputs": [],
   "source": [
    "with open(os.path.join(\"./smart_data/siamese_meta\", 'spectra_map_smiles.json'), 'w+') as f:\n",
    "    json.dump(cn_dict, f)"
   ]
  },
  {
   "cell_type": "code",
   "execution_count": null,
   "metadata": {},
   "outputs": [],
   "source": [
    "for i in tqdm.tqdm(range(len(all_gnps)) ):\n",
    "    arr = np.array( bin_spectra(json.loads(all_gnps[i][\"peaks_json\"])) )\n",
    "    spec_id = all_gnps[i][\"spectrum_id\"]\n",
    "    np.save(os.path.join(path, spec_id), arr)"
   ]
  },
  {
   "cell_type": "code",
   "execution_count": 27,
   "metadata": {},
   "outputs": [],
   "source": [
    "# mapping compounds to ids\n",
    "with open('./smart_data/all_specs/spectra_map.json', 'w+') as f:\n",
    "    json.dump(cn_dict, f)"
   ]
  }
 ],
 "metadata": {
  "interpreter": {
   "hash": "00eb4842bf1b72b71abf62257ce3e38328ef92c154c737ec21cf3c1f5526806a"
  },
  "kernelspec": {
   "display_name": "Python 3.7.11 64-bit ('smart': conda)",
   "language": "python",
   "name": "python3"
  },
  "language_info": {
   "codemirror_mode": {
    "name": "ipython",
    "version": 3
   },
   "file_extension": ".py",
   "mimetype": "text/x-python",
   "name": "python",
   "nbconvert_exporter": "python",
   "pygments_lexer": "ipython3",
   "version": "3.7.11"
  },
  "metadata": {
   "interpreter": {
    "hash": "00eb4842bf1b72b71abf62257ce3e38328ef92c154c737ec21cf3c1f5526806a"
   }
  },
  "orig_nbformat": 2
 },
 "nbformat": 4,
 "nbformat_minor": 2
}
